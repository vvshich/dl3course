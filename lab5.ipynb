{
 "cells": [
  {
   "cell_type": "markdown",
   "metadata": {},
   "source": [
    "# Lab 5"
   ]
  },
  {
   "cell_type": "code",
   "execution_count": 1,
   "metadata": {},
   "outputs": [],
   "source": [
    "import matplotlib.pyplot as plt\n",
    "import numpy as np\n",
    "\n",
    "import seaborn as sns\n",
    "import torch \n",
    "from torch import nn"
   ]
  },
  {
   "cell_type": "code",
   "execution_count": 2,
   "metadata": {},
   "outputs": [
    {
     "name": "stdout",
     "output_type": "stream",
     "text": [
      "Using CUDA (GPU)\n"
     ]
    }
   ],
   "source": [
    "if torch.cuda.is_available():\n",
    "    device = torch.device(\"cuda\")\n",
    "    print(\"Using CUDA (GPU)\")\n",
    "else:\n",
    "    device = torch.device(\"cpu\")\n",
    "    print(\"CUDA is not available. Using CPU.\")"
   ]
  },
  {
   "cell_type": "markdown",
   "metadata": {},
   "source": [
    "## Task 1. Write ResNet architecture by pytorch.\n",
    "\n",
    "I will try implement this [ResNet](https://arxiv.org/pdf/1512.03385)."
   ]
  },
  {
   "cell_type": "markdown",
   "metadata": {},
   "source": [
    "### 1. Implement ResNet and bottleneck block"
   ]
  },
  {
   "cell_type": "code",
   "execution_count": 3,
   "metadata": {},
   "outputs": [],
   "source": [
    "def do_nothing(x):\n",
    "    \"\"\"don nothing\n",
    "\n",
    "    Args:\n",
    "        x (any)\n",
    "\n",
    "    Returns:\n",
    "        any: x\n",
    "    \"\"\"\n",
    "    return x"
   ]
  },
  {
   "cell_type": "markdown",
   "metadata": {},
   "source": [
    "* ResNet block"
   ]
  },
  {
   "cell_type": "code",
   "execution_count": 4,
   "metadata": {},
   "outputs": [],
   "source": [
    "class ResBlock(nn.Module):\n",
    "    \"\"\"one block of resnet_18 or resnet_34 model\n",
    "\n",
    "    Args:\n",
    "        in_out_channels (int): input and output channels\n",
    "        expansion (int): expansion output channel\n",
    "    \"\"\"\n",
    "    \n",
    "    \n",
    "    def __init__(self, in_out_channels, expansion=1):\n",
    "        super().__init__()\n",
    "        layers = list()  \n",
    "\n",
    "        layers.append(nn.Conv2d(in_out_channels, in_out_channels, kernel_size=3, stride=1, padding=1, bias=False))\n",
    "        layers.append(nn.BatchNorm2d(in_out_channels))\n",
    "        layers.append(nn.ReLU())\n",
    "        \n",
    "        layers.append(nn.Conv2d(in_out_channels, in_out_channels*expansion, kernel_size=3, stride=1, padding=1, bias=False))\n",
    "        layers.append(nn.BatchNorm2d(in_out_channels*expansion))\n",
    "        \n",
    "        self.layers = nn.Sequential(*layers)\n",
    "        self.activastion = nn.ReLU()\n",
    "        \n",
    "        # if dimension is up\n",
    "        if in_out_channels != in_out_channels*expansion:\n",
    "            w = list()\n",
    "            w.append(nn.Conv2d(in_out_channels, in_out_channels*expansion, kernel_size=3, stride=1, padding=1, bias=False))\n",
    "            w.append(nn.BatchNorm2d(in_out_channels*expansion))\n",
    "            self.weights = nn.Sequential(*w)\n",
    "        else:\n",
    "            self.weights = do_nothing\n",
    "    \n",
    "    \n",
    "        \n",
    "    def forward(self, x):\n",
    "        return self.activastion( self.layers(x) + self.weights(x) )"
   ]
  },
  {
   "cell_type": "markdown",
   "metadata": {},
   "source": [
    "* BottleNeck block"
   ]
  },
  {
   "cell_type": "code",
   "execution_count": 5,
   "metadata": {},
   "outputs": [],
   "source": [
    "class BottleNeck(nn.Module):\n",
    "    \"\"\"BottleNeck block for resnet_50 model or more layers version\n",
    "\n",
    "    Args:\n",
    "        in_out_channels (int): input and output channels\n",
    "        expansion (int): expansion output channel\n",
    "    \"\"\"\n",
    "    \n",
    "    def __init__(self, in_out_channels, expansion=4):\n",
    "        super().__init__()\n",
    "        layers = list()  \n",
    "            \n",
    "        layers.append(nn.Conv2d(in_out_channels, in_out_channels, kernel_size=1, stride=1, bias=False))\n",
    "        layers.append(nn.BatchNorm2d(in_out_channels))\n",
    "        layers.append(nn.ReLU())\n",
    "        \n",
    "        layers.append(nn.Conv2d(in_out_channels, in_out_channels, kernel_size=3, stride=1, padding=1, bias=False))\n",
    "        layers.append(nn.BatchNorm2d(in_out_channels))\n",
    "        layers.append(nn.ReLU())\n",
    "        \n",
    "        layers.append(nn.Conv2d(in_out_channels, int(in_out_channels*expansion), kernel_size=1, stride=1, bias=False))\n",
    "        layers.append(nn.BatchNorm2d(int(in_out_channels*expansion)))\n",
    "        \n",
    "        self.layers = nn.Sequential(*layers)\n",
    "        self.activastion = nn.ReLU()\n",
    "        \n",
    "        if in_out_channels != in_out_channels*expansion:\n",
    "            w = list()\n",
    "            w.append(nn.Conv2d(in_out_channels, int(in_out_channels*expansion), kernel_size=3, stride=1, padding=1, bias=False))\n",
    "            w.append(nn.BatchNorm2d(int(in_out_channels*expansion)))\n",
    "            self.weights = nn.Sequential(*w)\n",
    "        else:\n",
    "            self.weights = do_nothing\n",
    "        \n",
    "    def forward(self, x):\n",
    "        return self.activastion( self.layers(x) + self.weights(x) )"
   ]
  },
  {
   "cell_type": "markdown",
   "metadata": {},
   "source": [
    "### 2. Implement resnet layers"
   ]
  },
  {
   "cell_type": "code",
   "execution_count": 6,
   "metadata": {},
   "outputs": [],
   "source": [
    "class convi_x(nn.Module):\n",
    "    def __init__(self, in_out_channels, blocks, is_last=False, is_resblock=True):\n",
    "        \"\"\"_summary_\n",
    "        conv2_x, conv3_x, conv4_x, conv5_x layers in one class\n",
    "        Args:\n",
    "            in_out_channels (int):  input and output channels\n",
    "            blocks (int): num of blocks\n",
    "            is_last (bool, optional): var for checking is it conv5_x. Defaults to False.\n",
    "            is_resnet (bool, optional): set ups what type of connection will use: Residual or Bottleneck. Defaults to True.        \n",
    "        \"\"\"\n",
    "        super().__init__()\n",
    "        layers = list()  \n",
    "               \n",
    "        if is_last:\n",
    "            if is_resblock:\n",
    "                for i in range(blocks):           \n",
    "                    layers.append(ResBlock(in_out_channels) )\n",
    "            else:\n",
    "                layers.append(BottleNeck(in_out_channels))\n",
    "                for i in range(blocks):           \n",
    "                    layers.append(BottleNeck(in_out_channels * 4, expansion = 1))\n",
    "                   \n",
    "        else:\n",
    "            if is_resblock:\n",
    "                for i in range(blocks-1):           \n",
    "                    layers.append(ResBlock(in_out_channels))                        # channels n->n example input: 64; output: 64\n",
    "                layers.append(ResBlock( in_out_channels, expansion = 2 ))           # channels n->2*n example input: 64; output: 64\n",
    "            else:\n",
    "                layers.append(BottleNeck(in_out_channels))                          # channels n->4*n example input: 64; output: 256\n",
    "                for i in range(blocks-2):           \n",
    "                    layers.append(BottleNeck( in_out_channels * 4, expansion = 1))  # channels 4*n->4*n example input: 256; output: 256\n",
    "                layers.append(BottleNeck( in_out_channels * 4, expansion = 0.5 ))   # channels 4*n->2*n  example input: 256; output: 128\n",
    "        \n",
    "            \n",
    "        self.layers = nn.Sequential(*layers)\n",
    "    \n",
    "    def forward(self, x):\n",
    "        return self.layers(x)"
   ]
  },
  {
   "cell_type": "markdown",
   "metadata": {},
   "source": [
    "### 3. Implement resnet model"
   ]
  },
  {
   "cell_type": "code",
   "execution_count": 7,
   "metadata": {},
   "outputs": [],
   "source": [
    "class ResNet(nn.Module):\n",
    "    def __init__(self, output_channels, architecture = 18, num_blocks = None):\n",
    "        \"\"\"ResNet class\n",
    "\n",
    "        Args:\n",
    "            output_channels (int): num classes\n",
    "            architecture (int, optional): articture that will use. Defaults to 18. \n",
    "            \n",
    "            if architecure not defaults like 18, 34, 50 and etc and < 50 will use resnet block, else bottleneck\n",
    "            num_blocks (list of int, optional): num of blocks for layers. Defaults to None.\n",
    "        \"\"\"\n",
    "        super().__init__()\n",
    "        \n",
    "        is_resblock = architecture < 50 # to use resblock or bottleneck block\n",
    "        \n",
    "        if num_blocks == None:\n",
    "            num_blocks = self.get_default_num_blocks(architecture)\n",
    "                \n",
    "        blocks = list()\n",
    "        for i in range(3):\n",
    "            blocks.append( (64*2**i, num_blocks[i-1], 0) ) # in_out_channels, num of blocks and bool var for conv5_x\n",
    "        blocks.append((512, num_blocks[-1], 1))\n",
    "\n",
    "        # Convolutions\n",
    "        layers = list()\n",
    "        \n",
    "        layers.append(nn.Conv2d(3, 64, kernel_size=7, stride=2)) # conv1\n",
    "        \n",
    "        layers.append(nn.MaxPool2d(3, 2))\n",
    "        \n",
    "        for block in blocks:\n",
    "            layers.append(convi_x(block[0], block[1], block[2], is_resblock))\n",
    "            \n",
    "        \n",
    "        layers.append(nn.AdaptiveAvgPool2d(1))    \n",
    "        \n",
    "        self.layers = nn.Sequential(*layers)\n",
    "        \n",
    "        # FC layers + Softmax activation\n",
    "        self.fcl = nn.Linear(512 if is_resblock else 2048, output_channels)\n",
    "    \n",
    "    def get_default_num_blocks(self, architecture) -> list:\n",
    "        \"\"\"get default list of numbers of block for defualt architecture\n",
    "\n",
    "        Args:\n",
    "            architecture (int): ResNet architecture\n",
    "\n",
    "        Returns:\n",
    "            list (int): numbers of block\n",
    "        \"\"\"\n",
    "        num_blocks = list()\n",
    "        \n",
    "        if architecture == 152:\n",
    "            num_blocks = [3, 8, 36, 3]\n",
    "        elif architecture == 34:\n",
    "            num_blocks = [3, 4, 6, 3]\n",
    "        elif architecture == 50:\n",
    "            num_blocks = [3, 4, 6, 3]\n",
    "        elif architecture == 101:\n",
    "            num_blocks = [3, 4, 23, 3]\n",
    "        else:\n",
    "            num_blocks = [2, 2, 2, 2]\n",
    "        \n",
    "        return num_blocks\n",
    "    \n",
    "    def forward(self, x):\n",
    "        conv_out = self.layers(x)\n",
    "        conv_out = torch.flatten(conv_out, start_dim=1)\n",
    "        return self.fcl(conv_out)"
   ]
  },
  {
   "cell_type": "markdown",
   "metadata": {},
   "source": [
    "Let's check is it work!"
   ]
  },
  {
   "cell_type": "code",
   "execution_count": 8,
   "metadata": {},
   "outputs": [],
   "source": [
    "ResNet_18 = ResNet(10)\n",
    "ResNet_50 = ResNet(10, architecture=50)\n",
    "x = torch.randn(256, 3, 64, 64)"
   ]
  },
  {
   "cell_type": "code",
   "execution_count": 9,
   "metadata": {},
   "outputs": [
    {
     "data": {
      "text/plain": [
       "torch.Size([256, 10])"
      ]
     },
     "execution_count": 9,
     "metadata": {},
     "output_type": "execute_result"
    }
   ],
   "source": [
    "ResNet_18.forward(x).shape"
   ]
  },
  {
   "cell_type": "code",
   "execution_count": 10,
   "metadata": {},
   "outputs": [
    {
     "data": {
      "text/plain": [
       "torch.Size([256, 10])"
      ]
     },
     "execution_count": 10,
     "metadata": {},
     "output_type": "execute_result"
    }
   ],
   "source": [
    "ResNet_50.forward(x).shape"
   ]
  },
  {
   "cell_type": "markdown",
   "metadata": {},
   "source": [
    "## Train models"
   ]
  },
  {
   "cell_type": "markdown",
   "metadata": {},
   "source": [
    "### Dataset"
   ]
  },
  {
   "cell_type": "markdown",
   "metadata": {},
   "source": [
    "Let's train our model and compare with standart pytorch resnets! Will use [CIFAR-10](https://www.cs.toronto.edu/~kriz/cifar.html) dataset"
   ]
  },
  {
   "cell_type": "code",
   "execution_count": 11,
   "metadata": {},
   "outputs": [],
   "source": [
    "from torchvision.datasets import CIFAR10\n",
    "import torchvision.transforms as transforms"
   ]
  },
  {
   "cell_type": "code",
   "execution_count": 12,
   "metadata": {},
   "outputs": [],
   "source": [
    "CLASSES = 10\n",
    "\n",
    "transform = transforms.ToTensor()\n",
    "\n",
    "dt_train = CIFAR10(\"datasets/\", train=True, transform=transform)\n",
    "dt_test = CIFAR10(\"datasets/\", train=False, transform=transform)"
   ]
  },
  {
   "cell_type": "markdown",
   "metadata": {},
   "source": [
    "### Trainloader"
   ]
  },
  {
   "cell_type": "code",
   "execution_count": 13,
   "metadata": {},
   "outputs": [],
   "source": [
    "BATCH_SIZE = 2048\n",
    "\n",
    "train_loader = torch.utils.data.DataLoader(dt_train, batch_size=BATCH_SIZE, shuffle=True)\n",
    "test_loader = torch.utils.data.DataLoader(dt_test, batch_size=BATCH_SIZE, shuffle=False)"
   ]
  },
  {
   "cell_type": "markdown",
   "metadata": {},
   "source": [
    "### Trainloop"
   ]
  },
  {
   "cell_type": "markdown",
   "metadata": {},
   "source": [
    "took functions from last labs"
   ]
  },
  {
   "cell_type": "code",
   "execution_count": 14,
   "metadata": {},
   "outputs": [],
   "source": [
    "def train(model, train_loader, optimizer, loss_function):\n",
    "    \"\"\"_summary_\n",
    "\n",
    "    Args:\n",
    "        model (class): Pytorch nn Module\n",
    "        train_loader (class): train dataset, pytorch loader\n",
    "        optimizer (class): optimizer for model\n",
    "        loss_function (class): loss function for optimization\n",
    "        is_torch (bool): var for checking torch model\n",
    "\n",
    "    Returns:\n",
    "        float: current loss\n",
    "    \"\"\"\n",
    "    model.train()\n",
    "    current_loss = 0.0      \n",
    "    for batch_idx, (inputs, targets) in enumerate(train_loader):\n",
    "        inputs, targets = inputs.to(device).float(), targets.to(device)\n",
    "        \n",
    "        optimizer.zero_grad()\n",
    "        \n",
    "        outputs = model(inputs)\n",
    "        \n",
    "        loss = loss_function(outputs, targets)\n",
    "        \n",
    "        loss.backward()\n",
    "        \n",
    "        optimizer.step()\n",
    "        \n",
    "        current_loss += loss.item()\n",
    "            \n",
    "    return current_loss/len(train_loader)"
   ]
  },
  {
   "cell_type": "code",
   "execution_count": 15,
   "metadata": {},
   "outputs": [],
   "source": [
    "def validate(model, valid_loader, loss_function):\n",
    "    model.eval()\n",
    "    valid_loss = 0.0\n",
    "    with torch.no_grad():\n",
    "        for batch_idx, (inputs, targets) in enumerate(valid_loader):\n",
    "            inputs, targets = inputs.to(device), targets.to(device)\n",
    "                        \n",
    "            output = model(inputs)\n",
    "            \n",
    "            loss = loss_function(output, targets)\n",
    "            \n",
    "            valid_loss += loss.item()\n",
    "            \n",
    "\n",
    "    valid_loss /= len(valid_loader)\n",
    "\n",
    "    return valid_loss"
   ]
  },
  {
   "cell_type": "code",
   "execution_count": 16,
   "metadata": {},
   "outputs": [],
   "source": [
    "def trainloop(model, train_loader, valid_loader, name=\"model\"):\n",
    "    \"\"\"_summary_\n",
    "\n",
    "    Args:\n",
    "        model (class): Pytorch nn Module\n",
    "        train_loader (class): train dataset, pytorch loader\n",
    "        valid_loader (class): validation dataset, pytorch loader\n",
    "        name (str): name of file \n",
    "\n",
    "    Returns:\n",
    "        best_model: best model of train\n",
    "        train_loss_list: list of train loss models\n",
    "        valid_loss_list: list of valid loss models\n",
    "        \n",
    "    \"\"\"\n",
    "    learning_rate = 0.001\n",
    "    n_epochs = 20\n",
    "    \n",
    "    optimizer = torch.optim.Adagrad(model.parameters(), lr=learning_rate)\n",
    "\n",
    "    loss_function = nn.CrossEntropyLoss().to(device)\n",
    "\n",
    "    train_loss_list = list()\n",
    "    valid_loss_list = list()\n",
    "\n",
    "    best_valid = np.inf\n",
    "    best_model = None\n",
    "    \n",
    "    is_torch = name.split(\"_\")[0] == 'torch'\n",
    "\n",
    "    for epoch in range(n_epochs):\n",
    "            \n",
    "        train_loss = train(model, train_loader, optimizer, loss_function)\n",
    "        train_loss_list.append(train_loss)\n",
    "        \n",
    "        valid_loss = validate(model, valid_loader, loss_function)\n",
    "        valid_loss_list.append(valid_loss)\n",
    "        \n",
    "        if valid_loss < best_valid:\n",
    "            best_valid = valid_loss\n",
    "            best_model = model\n",
    "            torch.save(model, 'models/lab4-best-'+ name +'.pt')\n",
    "            torch.save(model.state_dict(), 'models/lab4-best-'+ name  +'-parameters.pt')       \n",
    "        \n",
    "        print(f\"Epoch {epoch+1}: train_loss = {train_loss_list[epoch]}\")\n",
    "        print(f\"Epoch {epoch+1}: valid_loss = {valid_loss_list[epoch]}\")\n",
    "            \n",
    "    return best_model, train_loss_list, valid_loss_list"
   ]
  },
  {
   "cell_type": "code",
   "execution_count": 17,
   "metadata": {},
   "outputs": [
    {
     "name": "stderr",
     "output_type": "stream",
     "text": [
      "Using cache found in C:\\Users\\VELIKIY/.cache\\torch\\hub\\pytorch_vision_v0.10.0\n",
      "Using cache found in C:\\Users\\VELIKIY/.cache\\torch\\hub\\pytorch_vision_v0.10.0\n",
      "Using cache found in C:\\Users\\VELIKIY/.cache\\torch\\hub\\pytorch_vision_v0.10.0\n"
     ]
    }
   ],
   "source": [
    "resnet18 = ResNet(CLASSES, architecture=18).to(device)\n",
    "resnet34 = ResNet(CLASSES, architecture=34).to(device)\n",
    "resnet50 = ResNet(CLASSES, architecture=50).to(device)\n",
    "\n",
    "resnet18_toch = torch.hub.load('pytorch/vision:v0.10.0', 'resnet18')\n",
    "resnet34_toch = torch.hub.load('pytorch/vision:v0.10.0', 'resnet34')"
   ]
  },
  {
   "cell_type": "code",
   "execution_count": 18,
   "metadata": {},
   "outputs": [
    {
     "name": "stdout",
     "output_type": "stream",
     "text": [
      "\n"
     ]
    }
   ],
   "source": [
    "resnet18_toch.fc = nn.Linear(resnet18_toch.fc.in_features, CLASSES)\n",
    "resnet34_toch.fc = nn.Linear(resnet34_toch.fc.in_features, CLASSES)\n",
    "\n",
    "resnet18_toch.to(device)\n",
    "resnet34_toch.to(device)\n",
    "\n",
    "print()"
   ]
  },
  {
   "cell_type": "code",
   "execution_count": 19,
   "metadata": {},
   "outputs": [
    {
     "name": "stdout",
     "output_type": "stream",
     "text": [
      "Epoch 1: train_loss = 2.124094605445862\n",
      "Epoch 1: valid_loss = 3.3531967639923095\n",
      "Epoch 2: train_loss = 1.4945027351379394\n",
      "Epoch 2: valid_loss = 2.7163936138153075\n",
      "Epoch 3: train_loss = 1.309049334526062\n",
      "Epoch 3: valid_loss = 1.5927206993103027\n",
      "Epoch 4: train_loss = 1.1989021587371826\n",
      "Epoch 4: valid_loss = 1.2415979862213136\n",
      "Epoch 5: train_loss = 1.102553915977478\n",
      "Epoch 5: valid_loss = 1.302413773536682\n",
      "Epoch 6: train_loss = 1.0311789059638976\n",
      "Epoch 6: valid_loss = 1.570114016532898\n",
      "Epoch 7: train_loss = 0.9701093769073487\n",
      "Epoch 7: valid_loss = 1.182121253013611\n",
      "Epoch 8: train_loss = 0.8917950844764709\n",
      "Epoch 8: valid_loss = 1.2247806549072267\n",
      "Epoch 9: train_loss = 0.8188100194931031\n",
      "Epoch 9: valid_loss = 1.5113841056823731\n",
      "Epoch 10: train_loss = 0.7632242059707641\n",
      "Epoch 10: valid_loss = 1.535550856590271\n",
      "Epoch 11: train_loss = 0.690125424861908\n",
      "Epoch 11: valid_loss = 1.254670214653015\n",
      "Epoch 12: train_loss = 0.6113133215904236\n",
      "Epoch 12: valid_loss = 1.601169180870056\n",
      "Epoch 13: train_loss = 0.5237419652938843\n",
      "Epoch 13: valid_loss = 1.4683376789093017\n",
      "Epoch 14: train_loss = 0.45150002241134646\n",
      "Epoch 14: valid_loss = 1.7089942216873169\n",
      "Epoch 15: train_loss = 0.3505209851264954\n",
      "Epoch 15: valid_loss = 1.7130848169326782\n",
      "Epoch 16: train_loss = 0.2706729006767273\n",
      "Epoch 16: valid_loss = 1.8474074602127075\n",
      "Epoch 17: train_loss = 0.17084850937128068\n",
      "Epoch 17: valid_loss = 2.3660746574401856\n",
      "Epoch 18: train_loss = 0.11745022937655449\n",
      "Epoch 18: valid_loss = 1.9437715768814088\n",
      "Epoch 19: train_loss = 0.03361954770982265\n",
      "Epoch 19: valid_loss = 2.0123048543930055\n",
      "Epoch 20: train_loss = 0.013698166497051715\n",
      "Epoch 20: valid_loss = 2.0159054517745973\n"
     ]
    }
   ],
   "source": [
    "my_best_resnet_18, tll_my_18, vll_my18 = trainloop(resnet18, train_loader, test_loader, name=\"my_resnet18\")"
   ]
  },
  {
   "cell_type": "code",
   "execution_count": 20,
   "metadata": {},
   "outputs": [
    {
     "name": "stdout",
     "output_type": "stream",
     "text": [
      "Epoch 1: train_loss = 2.3403129243850707\n",
      "Epoch 1: valid_loss = 2.4876331806182863\n",
      "Epoch 2: train_loss = 1.708342900276184\n",
      "Epoch 2: valid_loss = 1.963833713531494\n",
      "Epoch 3: train_loss = 1.5378282117843627\n",
      "Epoch 3: valid_loss = 1.5617422819137574\n",
      "Epoch 4: train_loss = 1.3984628009796143\n",
      "Epoch 4: valid_loss = 1.4198822021484374\n",
      "Epoch 5: train_loss = 1.3230115842819214\n",
      "Epoch 5: valid_loss = 1.6702593326568604\n",
      "Epoch 6: train_loss = 1.2560324621200563\n",
      "Epoch 6: valid_loss = 1.302907109260559\n",
      "Epoch 7: train_loss = 1.1769882535934448\n",
      "Epoch 7: valid_loss = 1.3204767942428588\n",
      "Epoch 8: train_loss = 1.1245972776412965\n",
      "Epoch 8: valid_loss = 1.4393365144729615\n",
      "Epoch 9: train_loss = 1.0519486331939698\n",
      "Epoch 9: valid_loss = 1.4914475917816161\n",
      "Epoch 10: train_loss = 0.9964160704612732\n",
      "Epoch 10: valid_loss = 1.425739860534668\n",
      "Epoch 11: train_loss = 0.9296695160865783\n",
      "Epoch 11: valid_loss = 1.750230646133423\n",
      "Epoch 12: train_loss = 0.8808329224586486\n",
      "Epoch 12: valid_loss = 1.6992918491363525\n",
      "Epoch 13: train_loss = 0.7933000183105469\n",
      "Epoch 13: valid_loss = 1.6269591808319093\n",
      "Epoch 14: train_loss = 0.7150178909301758\n",
      "Epoch 14: valid_loss = 1.5955576181411744\n",
      "Epoch 15: train_loss = 0.6372701358795166\n",
      "Epoch 15: valid_loss = 1.687129521369934\n",
      "Epoch 16: train_loss = 0.5432538378238678\n",
      "Epoch 16: valid_loss = 1.7169134616851807\n",
      "Epoch 17: train_loss = 0.4353156852722168\n",
      "Epoch 17: valid_loss = 2.049737787246704\n",
      "Epoch 18: train_loss = 0.3609056162834168\n",
      "Epoch 18: valid_loss = 1.896916961669922\n",
      "Epoch 19: train_loss = 0.30293951511383055\n",
      "Epoch 19: valid_loss = 1.8371452331542968\n",
      "Epoch 20: train_loss = 0.12483740419149399\n",
      "Epoch 20: valid_loss = 2.951301383972168\n"
     ]
    }
   ],
   "source": [
    "my_best_resnet_34, tll_my_34, vll_my_34 = trainloop(resnet34, train_loader, test_loader, name=\"my_resnet34\")"
   ]
  },
  {
   "cell_type": "code",
   "execution_count": 24,
   "metadata": {},
   "outputs": [
    {
     "name": "stdout",
     "output_type": "stream",
     "text": [
      "Epoch 1: train_loss = 1.7064132690429688\n",
      "Epoch 1: valid_loss = 2.896396541595459\n",
      "Epoch 2: train_loss = 1.2334601974487305\n",
      "Epoch 2: valid_loss = 1.948060393333435\n",
      "Epoch 3: train_loss = 1.0087092018127441\n",
      "Epoch 3: valid_loss = 1.3698304891586304\n",
      "Epoch 4: train_loss = 0.8318598318099976\n",
      "Epoch 4: valid_loss = 1.366103506088257\n",
      "Epoch 5: train_loss = 0.6662350654602051\n",
      "Epoch 5: valid_loss = 1.4278138160705567\n",
      "Epoch 6: train_loss = 0.5010894215106965\n",
      "Epoch 6: valid_loss = 1.424588179588318\n",
      "Epoch 7: train_loss = 0.36508175611495974\n",
      "Epoch 7: valid_loss = 1.496786880493164\n"
     ]
    },
    {
     "ename": "KeyboardInterrupt",
     "evalue": "",
     "output_type": "error",
     "traceback": [
      "\u001b[1;31m---------------------------------------------------------------------------\u001b[0m",
      "\u001b[1;31mKeyboardInterrupt\u001b[0m                         Traceback (most recent call last)",
      "Cell \u001b[1;32mIn[24], line 1\u001b[0m\n\u001b[1;32m----> 1\u001b[0m torch_best_resnet_18, tll_torch_18, vll_torch_18 \u001b[38;5;241m=\u001b[39m \u001b[43mtrainloop\u001b[49m\u001b[43m(\u001b[49m\u001b[43mresnet18_toch\u001b[49m\u001b[43m,\u001b[49m\u001b[43m \u001b[49m\u001b[43mtrain_loader\u001b[49m\u001b[43m,\u001b[49m\u001b[43m \u001b[49m\u001b[43mtest_loader\u001b[49m\u001b[43m,\u001b[49m\u001b[43m \u001b[49m\u001b[43mname\u001b[49m\u001b[38;5;241;43m=\u001b[39;49m\u001b[38;5;124;43m\"\u001b[39;49m\u001b[38;5;124;43mtorch_resnet18\u001b[39;49m\u001b[38;5;124;43m\"\u001b[39;49m\u001b[43m)\u001b[49m\n",
      "Cell \u001b[1;32mIn[16], line 33\u001b[0m, in \u001b[0;36mtrainloop\u001b[1;34m(model, train_loader, valid_loader, name)\u001b[0m\n\u001b[0;32m     29\u001b[0m is_torch \u001b[38;5;241m=\u001b[39m name\u001b[38;5;241m.\u001b[39msplit(\u001b[38;5;124m\"\u001b[39m\u001b[38;5;124m_\u001b[39m\u001b[38;5;124m\"\u001b[39m)[\u001b[38;5;241m0\u001b[39m] \u001b[38;5;241m==\u001b[39m \u001b[38;5;124m'\u001b[39m\u001b[38;5;124mtorch\u001b[39m\u001b[38;5;124m'\u001b[39m\n\u001b[0;32m     31\u001b[0m \u001b[38;5;28;01mfor\u001b[39;00m epoch \u001b[38;5;129;01min\u001b[39;00m \u001b[38;5;28mrange\u001b[39m(n_epochs):\n\u001b[1;32m---> 33\u001b[0m     train_loss \u001b[38;5;241m=\u001b[39m \u001b[43mtrain\u001b[49m\u001b[43m(\u001b[49m\u001b[43mmodel\u001b[49m\u001b[43m,\u001b[49m\u001b[43m \u001b[49m\u001b[43mtrain_loader\u001b[49m\u001b[43m,\u001b[49m\u001b[43m \u001b[49m\u001b[43moptimizer\u001b[49m\u001b[43m,\u001b[49m\u001b[43m \u001b[49m\u001b[43mloss_function\u001b[49m\u001b[43m)\u001b[49m\n\u001b[0;32m     34\u001b[0m     train_loss_list\u001b[38;5;241m.\u001b[39mappend(train_loss)\n\u001b[0;32m     36\u001b[0m     valid_loss \u001b[38;5;241m=\u001b[39m validate(model, valid_loader, loss_function)\n",
      "Cell \u001b[1;32mIn[14], line 29\u001b[0m, in \u001b[0;36mtrain\u001b[1;34m(model, train_loader, optimizer, loss_function)\u001b[0m\n\u001b[0;32m     25\u001b[0m     loss\u001b[38;5;241m.\u001b[39mbackward()\n\u001b[0;32m     27\u001b[0m     optimizer\u001b[38;5;241m.\u001b[39mstep()\n\u001b[1;32m---> 29\u001b[0m     current_loss \u001b[38;5;241m+\u001b[39m\u001b[38;5;241m=\u001b[39m \u001b[43mloss\u001b[49m\u001b[38;5;241;43m.\u001b[39;49m\u001b[43mitem\u001b[49m\u001b[43m(\u001b[49m\u001b[43m)\u001b[49m\n\u001b[0;32m     31\u001b[0m \u001b[38;5;28;01mreturn\u001b[39;00m current_loss\u001b[38;5;241m/\u001b[39m\u001b[38;5;28mlen\u001b[39m(train_loader)\n",
      "\u001b[1;31mKeyboardInterrupt\u001b[0m: "
     ]
    }
   ],
   "source": [
    "torch_best_resnet_18, tll_torch_18, vll_torch_18 = trainloop(resnet18_toch, train_loader, test_loader, name=\"torch_resnet18\")"
   ]
  },
  {
   "cell_type": "code",
   "execution_count": null,
   "metadata": {},
   "outputs": [
    {
     "name": "stdout",
     "output_type": "stream",
     "text": [
      "Epoch 1: train_loss = 1.9326561784744263\n",
      "Epoch 1: valid_loss = 2.4494769096374513\n",
      "Epoch 2: train_loss = 1.3738732194900514\n",
      "Epoch 2: valid_loss = 2.0028688430786135\n",
      "Epoch 3: train_loss = 1.1421822309494019\n",
      "Epoch 3: valid_loss = 1.4627474308013917\n",
      "Epoch 4: train_loss = 0.9357468295097351\n",
      "Epoch 4: valid_loss = 1.472465205192566\n",
      "Epoch 5: train_loss = 0.7567033171653748\n",
      "Epoch 5: valid_loss = 1.5795955181121826\n",
      "Epoch 6: train_loss = 0.575950403213501\n",
      "Epoch 6: valid_loss = 1.5976886510849\n",
      "Epoch 7: train_loss = 0.3746818840503693\n",
      "Epoch 7: valid_loss = 1.7447878122329712\n",
      "Epoch 8: train_loss = 0.20709463357925414\n",
      "Epoch 8: valid_loss = 1.8496968746185303\n",
      "Epoch 9: train_loss = 0.09418200224637985\n",
      "Epoch 9: valid_loss = 1.8745644330978393\n",
      "Epoch 10: train_loss = 0.04377764344215393\n",
      "Epoch 10: valid_loss = 1.9590324401855468\n",
      "Epoch 11: train_loss = 0.02525439754128456\n",
      "Epoch 11: valid_loss = 2.0385012149810793\n",
      "Epoch 12: train_loss = 0.017580194026231767\n",
      "Epoch 12: valid_loss = 2.093509387969971\n",
      "Epoch 13: train_loss = 0.012963994406163692\n",
      "Epoch 13: valid_loss = 2.1377145767211916\n",
      "Epoch 14: train_loss = 0.010332678444683552\n",
      "Epoch 14: valid_loss = 2.175023317337036\n",
      "Epoch 15: train_loss = 0.008774940967559814\n",
      "Epoch 15: valid_loss = 2.2121835708618165\n",
      "Epoch 16: train_loss = 0.007627521734684705\n",
      "Epoch 16: valid_loss = 2.23946270942688\n",
      "Epoch 17: train_loss = 0.006391831170767546\n",
      "Epoch 17: valid_loss = 2.263473653793335\n",
      "Epoch 18: train_loss = 0.00568460451439023\n",
      "Epoch 18: valid_loss = 2.2924145698547362\n",
      "Epoch 19: train_loss = 0.005045355688780546\n",
      "Epoch 19: valid_loss = 2.3105629444122315\n",
      "Epoch 20: train_loss = 0.004673256631940603\n",
      "Epoch 20: valid_loss = 2.332749843597412\n"
     ]
    }
   ],
   "source": [
    "torch_best_resnet_34, tll_torch_34, vll_torch_34 = trainloop(resnet34_toch, train_loader, test_loader, name=\"torch_resnet34\")"
   ]
  },
  {
   "cell_type": "code",
   "execution_count": null,
   "metadata": {},
   "outputs": [
    {
     "ename": "NameError",
     "evalue": "name 'vll_torch_18' is not defined",
     "output_type": "error",
     "traceback": [
      "\u001b[1;31m---------------------------------------------------------------------------\u001b[0m",
      "\u001b[1;31mNameError\u001b[0m                                 Traceback (most recent call last)",
      "Cell \u001b[1;32mIn[23], line 3\u001b[0m\n\u001b[0;32m      1\u001b[0m sns\u001b[38;5;241m.\u001b[39mlineplot(vll_my18, label\u001b[38;5;241m=\u001b[39m\u001b[38;5;124m\"\u001b[39m\u001b[38;5;124mmy resnet18\u001b[39m\u001b[38;5;124m\"\u001b[39m)\n\u001b[0;32m      2\u001b[0m sns\u001b[38;5;241m.\u001b[39mlineplot(vll_my_34, label\u001b[38;5;241m=\u001b[39m\u001b[38;5;124m\"\u001b[39m\u001b[38;5;124mmy resnet34\u001b[39m\u001b[38;5;124m\"\u001b[39m)\n\u001b[1;32m----> 3\u001b[0m sns\u001b[38;5;241m.\u001b[39mlineplot(\u001b[43mvll_torch_18\u001b[49m, label\u001b[38;5;241m=\u001b[39m\u001b[38;5;124m\"\u001b[39m\u001b[38;5;124mtorch resnet18\u001b[39m\u001b[38;5;124m\"\u001b[39m)\n\u001b[0;32m      4\u001b[0m sns\u001b[38;5;241m.\u001b[39mlineplot(vll_torch_34, label\u001b[38;5;241m=\u001b[39m\u001b[38;5;124m\"\u001b[39m\u001b[38;5;124mtorch resnet34\u001b[39m\u001b[38;5;124m\"\u001b[39m)\n\u001b[0;32m      6\u001b[0m plt\u001b[38;5;241m.\u001b[39mxlabel(\u001b[38;5;124m\"\u001b[39m\u001b[38;5;124mEpoch\u001b[39m\u001b[38;5;124m\"\u001b[39m)\n",
      "\u001b[1;31mNameError\u001b[0m: name 'vll_torch_18' is not defined"
     ]
    },
    {
     "data": {
      "image/png": "[encoded data removed]",
      "text/plain": [
       "<Figure size 640x480 with 1 Axes>"
      ]
     },
     "metadata": {},
     "output_type": "display_data"
    }
   ],
   "source": [
    "sns.lineplot(vll_my18, label=\"my resnet18\")\n",
    "sns.lineplot(vll_my_34, label=\"my resnet34\")\n",
    "sns.lineplot(vll_torch_18, label=\"torch resnet18\")\n",
    "sns.lineplot(vll_torch_34, label=\"torch resnet34\")\n",
    "\n",
    "plt.xlabel(\"Epoch\")\n",
    "plt.ylabel(\"Cross-entropy validation loss\")"
   ]
  },
  {
   "cell_type": "code",
   "execution_count": null,
   "metadata": {},
   "outputs": [
    {
     "data": {
      "text/plain": [
       "<Axes: >"
      ]
     },
     "execution_count": 57,
     "metadata": {},
     "output_type": "execute_result"
    },
    {
     "data": {
      "image/png": "[encoded data removed]",
      "text/plain": [
       "<Figure size 640x480 with 1 Axes>"
      ]
     },
     "metadata": {},
     "output_type": "display_data"
    }
   ],
   "source": [
    "sns.lineplot(tll_my_18, label=\"my resnet18\")\n",
    "sns.lineplot(tll_my_34, label=\"my resnet34\")\n",
    "sns.lineplot(tll_my_50, label=\"my resnet50\")\n",
    "sns.lineplot(tll_torch_18, label=\"torch resnet18\")\n",
    "sns.lineplot(tll_torch_34, label=\"torch resnet34\")\n",
    "\n",
    "plt.xlabel(\"Epoch\")\n",
    "plt.ylabel(\"Cross-entropy validation loss\")"
   ]
  },
  {
   "cell_type": "code",
   "execution_count": null,
   "metadata": {},
   "outputs": [],
   "source": [
    "best_my_resnet18.load_state_dict(torch.load(\"models/lab4-best-my_resnet18-parameters.pt\"))\n",
    "best_my_resnet18 = best_my_resnet18.to(device)\n",
    "best_model.eval()"
   ]
  },
  {
   "cell_type": "code",
   "execution_count": null,
   "metadata": {},
   "outputs": [],
   "source": [
    "torch_my_resnet18.load_state_dict(torch.load(\"models/lab4-best-torch_resnet18-parameters.pt\"))\n",
    "torch_my_resnet18 = best_my_resnet18.to(device)\n",
    "torch_model.eval()"
   ]
  }
 ],
 "metadata": {
  "kernelspec": {
   "display_name": "Python 3",
   "language": "python",
   "name": "python3"
  },
  "language_info": {
   "codemirror_mode": {
    "name": "ipython",
    "version": 3
   },
   "file_extension": ".py",
   "mimetype": "text/x-python",
   "name": "python",
   "nbconvert_exporter": "python",
   "pygments_lexer": "ipython3",
   "version": "3.11.5"
  },
  "orig_nbformat": 4
 },
 "nbformat": 4,
 "nbformat_minor": 2
}
