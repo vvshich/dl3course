{
 "cells": [
  {
   "cell_type": "markdown",
   "metadata": {},
   "source": [
    "# Lab 5"
   ]
  },
  {
   "cell_type": "code",
   "execution_count": 313,
   "metadata": {},
   "outputs": [],
   "source": [
    "import matplotlib.pyplot as plt\n",
    "import numpy as np\n",
    "\n",
    "import seaborn as sns\n",
    "import torch \n",
    "from torch import nn"
   ]
  },
  {
   "cell_type": "markdown",
   "metadata": {},
   "source": [
    "## Task 1. Write ResNet architecture by pytorch.\n",
    "\n",
    "I will try implement this [ResNet](https://arxiv.org/pdf/1512.03385)."
   ]
  },
  {
   "cell_type": "markdown",
   "metadata": {},
   "source": [
    "### 1. Implement ResNet and bottleneck block"
   ]
  },
  {
   "cell_type": "markdown",
   "metadata": {},
   "source": [
    "* ResNet block"
   ]
  },
  {
   "cell_type": "code",
   "execution_count": 314,
   "metadata": {},
   "outputs": [],
   "source": [
    "class ResBlock(nn.Module):\n",
    "    \"\"\"one block of resnet_18 or resnet_34 model\n",
    "\n",
    "    Args:\n",
    "        in_out_channels (int): input and output channels\n",
    "        expansion (int): expansion output channel\n",
    "    \"\"\"\n",
    "    def __init__(self, in_out_channels, expansion=1):\n",
    "        super().__init__()\n",
    "        layers = list()  \n",
    "\n",
    "        layers.append(nn.Conv2d(in_out_channels, in_out_channels, kernel_size=3, stride=1, padding=1))\n",
    "        layers.append(nn.BatchNorm2d(in_out_channels))\n",
    "        layers.append(nn.ReLU())\n",
    "        \n",
    "        layers.append(nn.Conv2d(in_out_channels, in_out_channels*expansion, kernel_size=3, stride=1, padding=1))\n",
    "        layers.append(nn.BatchNorm2d(in_out_channels*expansion))\n",
    "        \n",
    "        self.layers = nn.Sequential(*layers)\n",
    "        self.activastion = nn.ReLU()\n",
    "        \n",
    "        # if dimension is up\n",
    "        if in_out_channels != in_out_channels*expansion:\n",
    "            w = list()\n",
    "            w.append(nn.Conv2d(in_out_channels, in_out_channels*expansion, kernel_size=3, stride=1, padding=1))\n",
    "            w.append(nn.BatchNorm2d(in_out_channels*expansion))\n",
    "            self.weights = nn.Sequential(*w)\n",
    "        else:\n",
    "            self.weights = lambda x: x\n",
    "        \n",
    "    def forward(self, x):\n",
    "        return self.activastion( self.layers(x) + self.weights(x) )"
   ]
  },
  {
   "cell_type": "markdown",
   "metadata": {},
   "source": [
    "* BottleNeck block"
   ]
  },
  {
   "cell_type": "code",
   "execution_count": 315,
   "metadata": {},
   "outputs": [],
   "source": [
    "class BottleNeck(nn.Module):\n",
    "    \"\"\"BottleNeck block for resnet_50 model or more layers version\n",
    "\n",
    "    Args:\n",
    "        in_out_channels (int): input and output channels\n",
    "        expansion (int): expansion output channel\n",
    "    \"\"\"\n",
    "    def __init__(self, in_out_channels, expansion=4):\n",
    "        super().__init__()\n",
    "        layers = list()  \n",
    "            \n",
    "        layers.append(nn.Conv2d(in_out_channels, in_out_channels, kernel_size=1, stride=1))\n",
    "        layers.append(nn.BatchNorm2d(in_out_channels))\n",
    "        layers.append(nn.ReLU())\n",
    "        \n",
    "        layers.append(nn.Conv2d(in_out_channels, in_out_channels, kernel_size=3, stride=1, padding=1))\n",
    "        layers.append(nn.BatchNorm2d(in_out_channels))\n",
    "        layers.append(nn.ReLU())\n",
    "        \n",
    "        layers.append(nn.Conv2d(in_out_channels, int(in_out_channels*expansion), kernel_size=1, stride=1))\n",
    "        layers.append(nn.BatchNorm2d(int(in_out_channels*expansion)))\n",
    "        \n",
    "        self.layers = nn.Sequential(*layers)\n",
    "        self.activastion = nn.ReLU()\n",
    "        \n",
    "        if in_out_channels != in_out_channels*expansion:\n",
    "            w = list()\n",
    "            w.append(nn.Conv2d(in_out_channels, int(in_out_channels*expansion), kernel_size=3, stride=1, padding=1))\n",
    "            w.append(nn.BatchNorm2d(int(in_out_channels*expansion)))\n",
    "            self.weights = nn.Sequential(*w)\n",
    "        else:\n",
    "            self.weights = lambda x: x\n",
    "        \n",
    "    def forward(self, x):\n",
    "        return self.activastion( self.layers(x) + self.weights(x) )"
   ]
  },
  {
   "cell_type": "markdown",
   "metadata": {},
   "source": [
    "### 2. Implement resnet layers"
   ]
  },
  {
   "cell_type": "code",
   "execution_count": 316,
   "metadata": {},
   "outputs": [],
   "source": [
    "class convi_x(nn.Module):\n",
    "    def __init__(self, in_out_channels, blocks, is_last=False, is_resblock=True):\n",
    "        \"\"\"_summary_\n",
    "        conv2_x, conv3_x, conv4_x, conv5_x layers in one class\n",
    "        Args:\n",
    "            in_out_channels (int):  input and output channels\n",
    "            blocks (int): num of blocks\n",
    "            is_last (bool, optional): var for checking is it conv5_x. Defaults to False.\n",
    "            is_resnet (bool, optional): set ups what type of connection will use: Residual or Bottleneck. Defaults to True.        \n",
    "        \"\"\"\n",
    "        super().__init__()\n",
    "        layers = list()  \n",
    "               \n",
    "        if is_last:\n",
    "            if is_resblock:\n",
    "                for i in range(blocks):           \n",
    "                    layers.append(ResBlock(in_out_channels) )\n",
    "            else:\n",
    "                layers.append(BottleNeck(in_out_channels))\n",
    "                for i in range(blocks):           \n",
    "                    layers.append(BottleNeck(in_out_channels * 4, expansion = 1))\n",
    "                   \n",
    "        else:\n",
    "            if is_resblock:\n",
    "                for i in range(blocks-1):           \n",
    "                    layers.append(ResBlock(in_out_channels))                        # channels n->n example input: 64; output: 64\n",
    "                layers.append(ResBlock( in_out_channels, expansion = 2 ))           # channels n->2*n example input: 64; output: 64\n",
    "            else:\n",
    "                layers.append(BottleNeck(in_out_channels))                          # channels n->4*n example input: 64; output: 256\n",
    "                for i in range(blocks-2):           \n",
    "                    layers.append(BottleNeck( in_out_channels * 4, expansion = 1))  # channels 4*n->4*n example input: 256; output: 256\n",
    "                layers.append(BottleNeck( in_out_channels * 4, expansion = 0.5 ))   # channels 4*n->2*n  example input: 256; output: 128\n",
    "        \n",
    "            \n",
    "        self.layers = nn.Sequential(*layers)\n",
    "    \n",
    "    def forward(self, x):\n",
    "        return self.layers(x)"
   ]
  },
  {
   "cell_type": "markdown",
   "metadata": {},
   "source": [
    "### 3. Implement resnet model"
   ]
  },
  {
   "cell_type": "code",
   "execution_count": 317,
   "metadata": {},
   "outputs": [],
   "source": [
    "class ResNet(nn.Module):\n",
    "    def __init__(self, output_channels, architecture = 18, num_blocks = None):\n",
    "        \"\"\"ResNet class\n",
    "\n",
    "        Args:\n",
    "            output_channels (int): output channels\n",
    "            architecture (int, optional): articture that will use. Defaults to 18. \n",
    "            \n",
    "            if architecure not defaults like 18, 34, 50 and etc and < 50 will use resnet block, else bottleneck\n",
    "            num_blocks (list of int, optional): num of blocks for layers. Defaults to None.\n",
    "        \"\"\"\n",
    "        super().__init__()\n",
    "        \n",
    "        is_resblock = architecture < 50 # to use resblock or bottleneck block\n",
    "        \n",
    "        if num_blocks == None:\n",
    "            num_blocks = self.get_default_num_blocks(architecture)\n",
    "                \n",
    "        blocks = list()\n",
    "        for i in range(3):\n",
    "            blocks.append( (64*2**i, num_blocks[i-1], 0) ) # in_out_channels, num of blocks and bool var for conv5_x\n",
    "        blocks.append((512, num_blocks[-1], 1))\n",
    "\n",
    "        # Convolutions\n",
    "        layers = list()\n",
    "        \n",
    "        layers.append(nn.Conv2d(3, 64, kernel_size=7, stride=2)) # conv1\n",
    "        \n",
    "        layers.append(nn.MaxPool2d(3, 2))\n",
    "        \n",
    "        for block in blocks:\n",
    "            layers.append(convi_x(block[0], block[1], block[2], is_resblock))\n",
    "            \n",
    "        \n",
    "        layers.append(nn.AdaptiveAvgPool2d(1))    \n",
    "        \n",
    "        self.layers = nn.Sequential(*layers)\n",
    "        \n",
    "        # FC layers + Softmax activation\n",
    "        self.fcl = nn.Linear(512 if is_resblock else 2048, output_channels)\n",
    "        self.activastion = nn.Softmax()\n",
    "    \n",
    "    def get_default_num_blocks(self, architecture) -> list:\n",
    "        \"\"\"get default list of numbers of block for defualt architecture\n",
    "\n",
    "        Args:\n",
    "            architecture (int): ResNet architecture\n",
    "\n",
    "        Returns:\n",
    "            list (int): numbers of block\n",
    "        \"\"\"\n",
    "        num_blocks = list()\n",
    "        \n",
    "        if architecture == 152:\n",
    "            num_blocks = [3, 8, 36, 3]\n",
    "        elif architecture == 34:\n",
    "            num_blocks = [3, 4, 6, 3]\n",
    "        elif architecture == 50:\n",
    "            num_blocks = [3, 4, 6, 3]\n",
    "        elif architecture == 101:\n",
    "            num_blocks = [3, 4, 23, 3]\n",
    "        else:\n",
    "            num_blocks = [2, 2, 2, 2]\n",
    "        \n",
    "        return num_blocks\n",
    "    \n",
    "    def forward(self, x):\n",
    "        conv_out = self.layers(x)\n",
    "        conv_out = torch.flatten(conv_out, start_dim=1)\n",
    "        return self.activastion(self.fcl(conv_out))"
   ]
  },
  {
   "cell_type": "markdown",
   "metadata": {},
   "source": [
    "Let's check is it work!"
   ]
  },
  {
   "cell_type": "code",
   "execution_count": 318,
   "metadata": {},
   "outputs": [
    {
     "name": "stderr",
     "output_type": "stream",
     "text": [
      "c:\\Users\\Омар\\AppData\\Local\\Programs\\Python\\Python311\\Lib\\site-packages\\torch\\nn\\modules\\module.py:1532: UserWarning: Implicit dimension choice for softmax has been deprecated. Change the call to include dim=X as an argument.\n",
      "  return self._call_impl(*args, **kwargs)\n"
     ]
    },
    {
     "data": {
      "text/plain": [
       "tensor([[1.]], grad_fn=<SoftmaxBackward0>)"
      ]
     },
     "execution_count": 318,
     "metadata": {},
     "output_type": "execute_result"
    }
   ],
   "source": [
    "ResNet_18 = ResNet(1)\n",
    "ResNet_50 = ResNet(1, architecture=50)\n",
    "x = torch.randn(1, 3, 64, 64)\n",
    "\n",
    "ResNet_18.forward(x)\n",
    "ResNet_50.forward(x)"
   ]
  }
 ],
 "metadata": {
  "kernelspec": {
   "display_name": "Python 3",
   "language": "python",
   "name": "python3"
  },
  "language_info": {
   "codemirror_mode": {
    "name": "ipython",
    "version": 3
   },
   "file_extension": ".py",
   "mimetype": "text/x-python",
   "name": "python",
   "nbconvert_exporter": "python",
   "pygments_lexer": "ipython3",
   "version": "3.11.5"
  },
  "orig_nbformat": 4
 },
 "nbformat": 4,
 "nbformat_minor": 2
}
