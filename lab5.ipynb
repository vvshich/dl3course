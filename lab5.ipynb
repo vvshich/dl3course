{
 "cells": [
  {
   "cell_type": "markdown",
   "metadata": {},
   "source": [
    "# Lab 5"
   ]
  },
  {
   "cell_type": "code",
   "execution_count": 555,
   "metadata": {},
   "outputs": [],
   "source": [
    "import matplotlib.pyplot as plt\n",
    "import numpy as np\n",
    "\n",
    "import seaborn as sns\n",
    "import torch \n",
    "from torch import nn"
   ]
  },
  {
   "cell_type": "markdown",
   "metadata": {},
   "source": [
    "* Write ResNet architecture by pytorch.\n",
    "\n",
    "I will try implement [ResNet-34](https://arxiv.org/pdf/1512.03385)."
   ]
  },
  {
   "cell_type": "markdown",
   "metadata": {},
   "source": [
    "1. Implement resnet block"
   ]
  },
  {
   "cell_type": "code",
   "execution_count": 556,
   "metadata": {},
   "outputs": [],
   "source": [
    "class ResBlock(nn.Module):\n",
    "    \"\"\"one block of resnet_34 model\n",
    "\n",
    "    Args:\n",
    "        in_out_channels (int): input and output channels\n",
    "        n (int): expansion output channel\n",
    "    \"\"\"\n",
    "    def __init__(self, in_out_channels, n=1):\n",
    "        super().__init__()\n",
    "        layers = list()  \n",
    "\n",
    "        layers.append(nn.Conv2d(in_out_channels, in_out_channels, kernel_size=3, stride=1, padding=1))\n",
    "        layers.append(nn.BatchNorm2d(in_out_channels))\n",
    "        layers.append(nn.ReLU())\n",
    "        \n",
    "        layers.append(nn.Conv2d(in_out_channels, in_out_channels*n, kernel_size=3, stride=1, padding=1))\n",
    "        layers.append(nn.BatchNorm2d(in_out_channels*n))\n",
    "        \n",
    "        self.layers = nn.Sequential(*layers)\n",
    "        self.activastion = nn.ReLU()\n",
    "        \n",
    "        # if dimension is up\n",
    "        if n > 1:\n",
    "            w = list()\n",
    "            w.append(nn.Conv2d(in_out_channels, in_out_channels*n, kernel_size=3, stride=1, padding=1))\n",
    "            w.append(nn.BatchNorm2d(in_out_channels*n))\n",
    "            self.weights = nn.Sequential(*w)\n",
    "        else:\n",
    "            self.weights = lambda x: x\n",
    "        \n",
    "    def forward(self, x):\n",
    "        return self.activastion( self.layers(x) + self.weights(x) )"
   ]
  },
  {
   "cell_type": "markdown",
   "metadata": {},
   "source": [
    "2. Implement resnet layers"
   ]
  },
  {
   "cell_type": "code",
   "execution_count": 557,
   "metadata": {},
   "outputs": [],
   "source": [
    "class convi_x(nn.Module):\n",
    "    def __init__(self, in_out_channels, blocks, is_last=False):\n",
    "        \"\"\"conv2_x, conv3_x, conv4_x, conv5_x layers in one class\n",
    "\n",
    "        Args:\n",
    "            in_out_channels (int): input and output channels\n",
    "            blocks (int): num of blocks\n",
    "            is_last (bool): var for checking is it conv5_x\n",
    "        \"\"\"\n",
    "        super().__init__()\n",
    "        layers = list()  \n",
    "        \n",
    "        if is_last:\n",
    "            for i in range(blocks):           \n",
    "                layers.append(ResBlock(in_out_channels))\n",
    "        else:\n",
    "            for i in range(blocks-1):           \n",
    "                layers.append(ResBlock(in_out_channels))\n",
    "            layers.append(ResBlock( in_out_channels, n = 2 ))\n",
    "        \n",
    "            \n",
    "        self.layers = nn.Sequential(*layers)\n",
    "    \n",
    "    def forward(self, x):\n",
    "        return self.layers(x)"
   ]
  },
  {
   "cell_type": "markdown",
   "metadata": {},
   "source": [
    "3. Implement resnet model"
   ]
  },
  {
   "cell_type": "code",
   "execution_count": 558,
   "metadata": {},
   "outputs": [],
   "source": [
    "class ResNet_34(nn.Module):\n",
    "    def __init__(self, output_channels):\n",
    "        super().__init__()\n",
    "        # Convolutions\n",
    "        blocks = [(64, 2, 0) , (128, 3, 0), (256, 6, 0), (512, 3, 1)] # in_out_channels, num of blocks and bool var for conv5_x\n",
    "        layers = list()\n",
    "        \n",
    "        layers.append(nn.Conv2d(3, 64, kernel_size=7, stride=2)) # conv1\n",
    "        \n",
    "        layers.append(nn.MaxPool2d(3, 2))\n",
    "        \n",
    "        for block in blocks:\n",
    "            layers.append(convi_x(block[0], block[1], block[2]))\n",
    "            \n",
    "        \n",
    "        layers.append(nn.AdaptiveAvgPool2d(1))    \n",
    "        \n",
    "        self.layers = nn.Sequential(*layers)\n",
    "        \n",
    "        # FC layers + Softmax activation\n",
    "        self.fcl = nn.Linear(512, output_channels)\n",
    "        self.activastion = nn.Softmax()\n",
    "    \n",
    "    def forward(self, x):\n",
    "        conv_out = self.layers(x)\n",
    "        conv_out = torch.flatten(conv_out, start_dim=1)\n",
    "        return self.activastion(self.fcl(conv_out))"
   ]
  },
  {
   "cell_type": "code",
   "execution_count": 559,
   "metadata": {},
   "outputs": [
    {
     "name": "stderr",
     "output_type": "stream",
     "text": [
      "c:\\Users\\Омар\\AppData\\Local\\Programs\\Python\\Python311\\Lib\\site-packages\\torch\\nn\\modules\\module.py:1532: UserWarning: Implicit dimension choice for softmax has been deprecated. Change the call to include dim=X as an argument.\n",
      "  return self._call_impl(*args, **kwargs)\n"
     ]
    },
    {
     "data": {
      "text/plain": [
       "tensor([[1.]], grad_fn=<SoftmaxBackward0>)"
      ]
     },
     "execution_count": 559,
     "metadata": {},
     "output_type": "execute_result"
    }
   ],
   "source": [
    "res = ResNet_34(1)\n",
    "x = torch.randn(1, 3, 64, 64)\n",
    "\n",
    "res.forward(x)"
   ]
  }
 ],
 "metadata": {
  "kernelspec": {
   "display_name": "Python 3",
   "language": "python",
   "name": "python3"
  },
  "language_info": {
   "codemirror_mode": {
    "name": "ipython",
    "version": 3
   },
   "file_extension": ".py",
   "mimetype": "text/x-python",
   "name": "python",
   "nbconvert_exporter": "python",
   "pygments_lexer": "ipython3",
   "version": "3.11.5"
  },
  "orig_nbformat": 4
 },
 "nbformat": 4,
 "nbformat_minor": 2
}
