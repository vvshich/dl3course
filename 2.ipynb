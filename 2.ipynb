{
 "cells": [
  {
   "cell_type": "markdown",
   "id": "7068f145-1394-45d8-8fe5-a4fdf4f9e1ec",
   "metadata": {},
   "source": [
    "# Lab2: Backpropagation handmade"
   ]
  },
  {
   "cell_type": "code",
   "execution_count": 106,
   "id": "1d2bc8d1-abfa-467e-aec9-bf58ae3cb597",
   "metadata": {},
   "outputs": [],
   "source": [
    "# 1. Build the class for math expressions\n",
    "# 2. Build some basic operations\n",
    "# 3. Build computation graph\n",
    "# 4. Build some activations\n",
    "# 5. Build backpropagation"
   ]
  },
  {
   "cell_type": "code",
   "execution_count": 107,
   "id": "f10e0756-975b-4e33-9ff5-ccaa92435596",
   "metadata": {},
   "outputs": [],
   "source": [
    "import numpy as np\n",
    "from collections import defaultdict\n",
    "\n",
    "import math\n",
    "import matplotlib.pyplot as plt"
   ]
  },
  {
   "cell_type": "code",
   "execution_count": 108,
   "id": "f0f19fa0",
   "metadata": {},
   "outputs": [],
   "source": [
    "def print_testpr(l):\n",
    "    for i in l:\n",
    "        print(i)"
   ]
  },
  {
   "cell_type": "code",
   "execution_count": 109,
   "id": "2090da17-3cbe-4551-9104-73e02ae1f7d4",
   "metadata": {},
   "outputs": [],
   "source": [
    "from graphlib import TopologicalSorter\n",
    "class Parameter:\n",
    "    def __init__(self, value: float, name: str) -> None:\n",
    "        self._value = value\n",
    "        self._name = name\n",
    "\n",
    "        self._grad = 0.0\n",
    "        self._backward = lambda: None\n",
    "        \n",
    "        self.parameters = dict()\n",
    "        self.parameters[id(self)] = self\n",
    "        self._graph = defaultdict(set)\n",
    "        self._graph[id(self)] = set()\n",
    "\n",
    "    def __repr__(self) -> str:\n",
    "        return f\"Parameter {self._name} = {self._value}; dL/d[{self._name}] = {self._grad}\"\n",
    "\n",
    "    def __mul__(self, other):\n",
    "        result = Parameter(\n",
    "            self._value * other._value,\n",
    "            f'{self._name} * {other._name}'\n",
    "        )\n",
    "        \n",
    "        result.parameters.update(self.parameters)\n",
    "        result.parameters.update(other.parameters)\n",
    "        result.parameters[id(result)] = result\n",
    "        \n",
    "        result._graph.update(self._graph)\n",
    "        result._graph.update(other._graph)\n",
    "        result._graph[id(result)].add(id(self))\n",
    "        result._graph[id(result)].add(id(other))\n",
    "\n",
    "        def _backward():\n",
    "            self._grad += other._value * result._grad #dL / dself\n",
    "            other._grad += self._value * result._grad # dL / dother\n",
    "\n",
    "        result._backward = _backward\n",
    "\n",
    "        return result\n",
    "\n",
    "    def __add__(self, other):\n",
    "        result = Parameter(\n",
    "            self._value + other._value,\n",
    "            f'[{self._name} + {other._name}]'\n",
    "        )\n",
    "        \n",
    "        result.parameters.update(self.parameters)\n",
    "        result.parameters.update(other.parameters)\n",
    "        result.parameters[id(result)] = result\n",
    "        \n",
    "        result._graph.update(self._graph)\n",
    "        result._graph.update(other._graph)\n",
    "        result._graph[id(result)].add(id(self))\n",
    "        result._graph[id(result)].add(id(other))\n",
    "\n",
    "        def _backward():\n",
    "            self._grad += 1.0 * result._grad  #dL / dself\n",
    "            other._grad += 1.0 * result._grad # dL / dother\n",
    "\n",
    "        result._backward = _backward\n",
    "\n",
    "        return result\n",
    "\n",
    "    def sigmoid(self):\n",
    "        # f(x) = 1 / (1 + exp(self._value))\n",
    "        # f'(x) = f(x) * (1 - f(x))\n",
    "\n",
    "        val = 1.0 / (1.0 + math.exp(-self._value))\n",
    "\n",
    "        result = Parameter(\n",
    "            val,\n",
    "            f\"σ({self._name})\"\n",
    "        )\n",
    "        \n",
    "        result.parameters.update(self.parameters)\n",
    "        result.parameters[id(result)] = result\n",
    "        \n",
    "        result._graph.update(self._graph)\n",
    "        result._graph[id(result)].add(id(self))\n",
    "        \n",
    "        def _backward():\n",
    "            self._grad = result._grad * val * (1 - val)\n",
    "\n",
    "        result._backward = _backward\n",
    "\n",
    "        return result\n",
    "\n",
    "    def _topological_sort(self):\n",
    "        in_degree = {node: 0 for node in self._graph}\n",
    "        for node in self._graph:\n",
    "            for neighbor in self._graph[node]:\n",
    "                in_degree[neighbor] += 1\n",
    "\n",
    "        queue = [node for node in self._graph if in_degree[node] == 0]\n",
    "        result = []\n",
    "\n",
    "        while queue:\n",
    "            current_node = queue.pop(0)\n",
    "            result.append(current_node)\n",
    "\n",
    "            for neighbor in self._graph[current_node]:\n",
    "                in_degree[neighbor] -= 1\n",
    "                if in_degree[neighbor] == 0:\n",
    "                    queue.append(neighbor)\n",
    "\n",
    "        return result\n",
    "\n",
    "    def backward(self):\n",
    "        queue = self._topological_sort()\n",
    "        print(queue)\n",
    "        self._grad = 1\n",
    "        for i in queue:\n",
    "            print(i)\n",
    "            self.parameters[i]._backward()\n",
    "            \n",
    "            \n",
    "\n",
    "\n",
    "    def SiLU(self):\n",
    "        # LAB 2 TASK 2\n",
    "        # f(x) = x*sigma(x)\n",
    "        # f'(x) = sigma(x) + x*sigma(x)*(1-sigma(x))\n",
    "        val = self._value * self.sigmoid()._value\n",
    "\n",
    "        result = Parameter(\n",
    "            val,\n",
    "            f\"{self._name}*σ({self._name})\"\n",
    "        )\n",
    "        \n",
    "        result.parameters.update(self.parameters)\n",
    "        result.parameters[id(result)] = result\n",
    "        \n",
    "        result._graph.update(self._graph)\n",
    "        result._graph[id(result)].add(id(self))\n",
    "        \n",
    "        def _backward():\n",
    "            self._grad = result._grad * ( self.sigmoid()._value + self._value*self.sigmoid()._value*(1-self.sigmoid()._value) )\n",
    "\n",
    "        result._backward = _backward\n",
    "\n",
    "        return result\n",
    "        \n",
    "\n",
    "    def ReLU(self):\n",
    "        # LAB 2 TASK 2\n",
    "        # f(x) = max(0, x)\n",
    "        # f'(x) = z>0\n",
    "        val = max(0, self._value)\n",
    "\n",
    "        result = Parameter(\n",
    "            val,\n",
    "            f\"max(0, {self._name})\"\n",
    "        )\n",
    "        \n",
    "        result.parameters.update(self.parameters)\n",
    "        result.parameters[id(result)] = result\n",
    "        \n",
    "        result._graph.update(self._graph)\n",
    "        result._graph[id(result)].add(id(self))\n",
    "        \n",
    "        def _backward():\n",
    "            self._grad = result._grad * ( self._value > 0 )\n",
    "\n",
    "        result._backward = _backward\n",
    "\n",
    "        return result"
   ]
  },
  {
   "cell_type": "code",
   "execution_count": 110,
   "id": "cc6183e2",
   "metadata": {},
   "outputs": [],
   "source": [
    "def sgd(parameters: list, learning_rate = 0.3): \n",
    "    for j in parameters:\n",
    "        j._value -= learning_rate * j._grad        \n",
    "    return parameters"
   ]
  },
  {
   "cell_type": "markdown",
   "id": "cc966218",
   "metadata": {},
   "source": [
    "## Task 1"
   ]
  },
  {
   "cell_type": "markdown",
   "id": "ff3a4e96",
   "metadata": {},
   "source": [
    "### Test 1"
   ]
  },
  {
   "cell_type": "code",
   "execution_count": 111,
   "id": "27fd73e5-da08-4969-9038-935b2d17f2d2",
   "metadata": {},
   "outputs": [],
   "source": [
    "a = Parameter(3.0, 'a')\n",
    "b = Parameter(2.0, 'b')\n",
    "c = Parameter(5.0, 'c')\n",
    "d = Parameter(5.0, 'd')"
   ]
  },
  {
   "cell_type": "code",
   "execution_count": 112,
   "id": "417e6a53-da64-4506-902f-5330a5463a5b",
   "metadata": {},
   "outputs": [
    {
     "name": "stdout",
     "output_type": "stream",
     "text": [
      "Parameter a = 3.0; dL/d[a] = 0.0\n",
      "Parameter b = 2.0; dL/d[b] = 0.0\n",
      "Parameter c = 5.0; dL/d[c] = 0.0\n",
      "Parameter d = 5.0; dL/d[d] = 0.0\n"
     ]
    }
   ],
   "source": [
    "print(a)\n",
    "print(b)\n",
    "print(c)\n",
    "print(d)"
   ]
  },
  {
   "cell_type": "code",
   "execution_count": 113,
   "id": "a2f9a3a6-b195-46df-9697-52b0b61fe6c8",
   "metadata": {},
   "outputs": [],
   "source": [
    "u = a * b\n",
    "v = u + c\n",
    "L = v * d"
   ]
  },
  {
   "cell_type": "code",
   "execution_count": 114,
   "id": "1cc17795-a494-4883-a79f-8a788ef0877c",
   "metadata": {},
   "outputs": [
    {
     "name": "stdout",
     "output_type": "stream",
     "text": [
      "[2430023952528, 2430122163920, 2430143405136, 2430143487568, 2430122446672, 2430104104656, 2430121001552]\n",
      "2430023952528\n",
      "2430122163920\n",
      "2430143405136\n",
      "2430143487568\n",
      "2430122446672\n",
      "2430104104656\n",
      "2430121001552\n"
     ]
    }
   ],
   "source": [
    "L.backward()"
   ]
  },
  {
   "cell_type": "code",
   "execution_count": 115,
   "id": "9318f268",
   "metadata": {},
   "outputs": [
    {
     "name": "stdout",
     "output_type": "stream",
     "text": [
      "Parameter [a * b + c] * d = 55.0; dL/d[[a * b + c] * d] = 1\n",
      "Parameter [a * b + c] = 11.0; dL/d[[a * b + c]] = 5.0\n",
      "Parameter d = 5.0; dL/d[d] = 11.0\n",
      "Parameter a * b = 6.0; dL/d[a * b] = 5.0\n",
      "Parameter c = 5.0; dL/d[c] = 5.0\n",
      "Parameter a = 3.0; dL/d[a] = 10.0\n",
      "Parameter b = 2.0; dL/d[b] = 15.0\n"
     ]
    }
   ],
   "source": [
    "l1 = [ L, v, d, u, c, a, b]\n",
    "print_testpr(l1)"
   ]
  },
  {
   "cell_type": "markdown",
   "id": "ef3d6dbb",
   "metadata": {},
   "source": [
    "### Test 2"
   ]
  },
  {
   "cell_type": "code",
   "execution_count": 116,
   "id": "a13ab54d",
   "metadata": {},
   "outputs": [],
   "source": [
    "y1 = Parameter(3.0, 'y1')\n",
    "y2 = Parameter(2.0, 'y2')\n",
    "c1 = Parameter(7.0, 'c1')\n",
    "c2 = Parameter(5.0, 'c2')"
   ]
  },
  {
   "cell_type": "code",
   "execution_count": 117,
   "id": "e05ca0ea",
   "metadata": {},
   "outputs": [],
   "source": [
    "y1c1 = y1*c1\n",
    "y2c2y1 = y2*c2*y1\n",
    "our = y1c1 + y2c2y1"
   ]
  },
  {
   "cell_type": "code",
   "execution_count": 118,
   "id": "0d80040f",
   "metadata": {},
   "outputs": [
    {
     "name": "stdout",
     "output_type": "stream",
     "text": [
      "[2430143201232, 2430143190544, 2430143188624, 2430143185168, 2430143187088, 2430143185744, 2430143185680, 2430143200080]\n",
      "2430143201232\n",
      "2430143190544\n",
      "2430143188624\n",
      "2430143185168\n",
      "2430143187088\n",
      "2430143185744\n",
      "2430143185680\n",
      "2430143200080\n"
     ]
    }
   ],
   "source": [
    "our.backward()"
   ]
  },
  {
   "cell_type": "code",
   "execution_count": 119,
   "id": "fa97cf0b",
   "metadata": {},
   "outputs": [
    {
     "name": "stdout",
     "output_type": "stream",
     "text": [
      "Parameter [y1 * c1 + y2 * c2 * y1] = 51.0; dL/d[[y1 * c1 + y2 * c2 * y1]] = 1\n",
      "Parameter y2 * c2 * y1 = 30.0; dL/d[y2 * c2 * y1] = 1.0\n",
      "Parameter y1 * c1 = 21.0; dL/d[y1 * c1] = 1.0\n",
      "Parameter y1 = 3.0; dL/d[y1] = 17.0\n",
      "Parameter y2 = 2.0; dL/d[y2] = 15.0\n",
      "Parameter c1 = 7.0; dL/d[c1] = 3.0\n",
      "Parameter c2 = 5.0; dL/d[c2] = 6.0\n"
     ]
    }
   ],
   "source": [
    "test = [our, y2c2y1, y1c1, y1, y2, c1, c2]\n",
    "print_testpr(test)"
   ]
  },
  {
   "cell_type": "markdown",
   "id": "468c9ef0",
   "metadata": {},
   "source": [
    "#### Test 3"
   ]
  },
  {
   "cell_type": "code",
   "execution_count": 120,
   "id": "2d3b7d20-2402-4074-9e45-39758425de21",
   "metadata": {},
   "outputs": [],
   "source": [
    "x1 = Parameter(3.0, 'x1')\n",
    "x2 = Parameter(4.0, 'x2')\n",
    "\n",
    "w1 = Parameter(1.0, 'w1')\n",
    "w2 = Parameter(2.0, 'w2')\n",
    "\n",
    "x1w1 = x1 * w1\n",
    "x2w2 = x2 * w2\n",
    "xw = x1w1 + x2w2\n",
    "out = xw.sigmoid()"
   ]
  },
  {
   "cell_type": "code",
   "execution_count": 121,
   "id": "8e552b23",
   "metadata": {},
   "outputs": [
    {
     "name": "stdout",
     "output_type": "stream",
     "text": [
      "[2430120895376, 2430120976272, 2430143200208, 2430143195984, 2430143197968, 2430143194512, 2430143194960, 2430143199184]\n",
      "2430120895376\n",
      "2430120976272\n",
      "2430143200208\n",
      "2430143195984\n",
      "2430143197968\n",
      "2430143194512\n",
      "2430143194960\n",
      "2430143199184\n"
     ]
    }
   ],
   "source": [
    "out.backward()"
   ]
  },
  {
   "cell_type": "code",
   "execution_count": 122,
   "id": "e4002593-c87e-48f1-b20b-7f6d4d627d4e",
   "metadata": {},
   "outputs": [
    {
     "name": "stdout",
     "output_type": "stream",
     "text": [
      "Parameter σ([x1 * w1 + x2 * w2]) = 0.999983298578152; dL/d[σ([x1 * w1 + x2 * w2])] = 1\n",
      "Parameter [x1 * w1 + x2 * w2] = 11.0; dL/d[[x1 * w1 + x2 * w2]] = 1.670114291046157e-05\n",
      "Parameter x2 * w2 = 8.0; dL/d[x2 * w2] = 1.670114291046157e-05\n",
      "Parameter x1 * w1 = 3.0; dL/d[x1 * w1] = 1.670114291046157e-05\n",
      "Parameter x1 = 3.0; dL/d[x1] = 1.670114291046157e-05\n",
      "Parameter x2 = 4.0; dL/d[x2] = 3.340228582092314e-05\n",
      "Parameter w1 = 1.0; dL/d[w1] = 5.010342873138471e-05\n",
      "Parameter w2 = 2.0; dL/d[w2] = 6.680457164184628e-05\n"
     ]
    }
   ],
   "source": [
    "l2 = [out, xw, x2w2, x1w1, x1, x2, w1, w2]\n",
    "print_testpr(l2)"
   ]
  },
  {
   "cell_type": "markdown",
   "id": "714c8dfb",
   "metadata": {},
   "source": [
    "#### Test 4"
   ]
  },
  {
   "cell_type": "code",
   "execution_count": 123,
   "id": "035eb554",
   "metadata": {},
   "outputs": [
    {
     "name": "stdout",
     "output_type": "stream",
     "text": [
      "[2430143100432, 2430143197968]\n",
      "2430143100432\n",
      "2430143197968\n"
     ]
    }
   ],
   "source": [
    "xx = x1*x1\n",
    "xx.backward()"
   ]
  },
  {
   "cell_type": "code",
   "execution_count": 124,
   "id": "96ca2dcc",
   "metadata": {},
   "outputs": [
    {
     "data": {
      "text/plain": [
       "(Parameter x1 * x1 = 9.0; dL/d[x1 * x1] = 1,\n",
       " Parameter x1 = 3.0; dL/d[x1] = 6.00001670114291)"
      ]
     },
     "execution_count": 124,
     "metadata": {},
     "output_type": "execute_result"
    }
   ],
   "source": [
    "xx, x1"
   ]
  },
  {
   "cell_type": "markdown",
   "id": "4415907e",
   "metadata": {},
   "source": [
    "#### Test 5"
   ]
  },
  {
   "cell_type": "code",
   "execution_count": 125,
   "id": "f49fdf6b",
   "metadata": {},
   "outputs": [],
   "source": [
    "x = Parameter(4, \"x\")\n",
    "y = Parameter(5, \"y\")\n",
    "Lout = x*(x*x+y)"
   ]
  },
  {
   "cell_type": "code",
   "execution_count": 126,
   "id": "31898791",
   "metadata": {},
   "outputs": [
    {
     "name": "stdout",
     "output_type": "stream",
     "text": [
      "[2430143514832, 2430143100176, 2430143095312, 2430143088912, 2430143186000]\n",
      "2430143514832\n",
      "2430143100176\n",
      "2430143095312\n",
      "2430143088912\n",
      "2430143186000\n"
     ]
    }
   ],
   "source": [
    "Lout.backward()"
   ]
  },
  {
   "cell_type": "code",
   "execution_count": 127,
   "id": "9ca335c2",
   "metadata": {},
   "outputs": [
    {
     "name": "stdout",
     "output_type": "stream",
     "text": [
      "Parameter x * [x * x + y] = 84; dL/d[x * [x * x + y]] = 1\n",
      "Parameter x = 4; dL/d[x] = 53.0\n",
      "Parameter y = 5; dL/d[y] = 4.0\n"
     ]
    }
   ],
   "source": [
    "test2 = [Lout, x, y]\n",
    "print_testpr(test2)"
   ]
  },
  {
   "cell_type": "markdown",
   "id": "3ceb13fe",
   "metadata": {},
   "source": [
    "#### Test 6"
   ]
  },
  {
   "cell_type": "code",
   "execution_count": 128,
   "id": "d0cb741a",
   "metadata": {},
   "outputs": [
    {
     "name": "stdout",
     "output_type": "stream",
     "text": [
      "[2430143525840, 2430143519504, 2430143522832, 2430143521232, 2430143518160, 2430143188432]\n",
      "2430143525840\n",
      "2430143519504\n",
      "2430143522832\n",
      "2430143521232\n",
      "2430143518160\n",
      "2430143188432\n",
      "Parameter x * x * x * x * y = 1280; dL/d[x * x * x * x * y] = 1\n",
      "Parameter x1 * x1 = 9.0; dL/d[x1 * x1] = 1\n",
      "Parameter x = 4; dL/d[x] = 1280.0\n",
      "Parameter y = 5; dL/d[y] = 256.0\n"
     ]
    }
   ],
   "source": [
    "x = Parameter(4,\"x\")\n",
    "y = Parameter(5,\"y\")\n",
    "L = (x*x)*(x*x*y)\n",
    "L.backward()\n",
    "print_testpr([L, xx, x,y])"
   ]
  },
  {
   "cell_type": "code",
   "execution_count": 129,
   "id": "27b5ee8c",
   "metadata": {},
   "outputs": [
    {
     "name": "stdout",
     "output_type": "stream",
     "text": [
      "[2430143523152, 2430143522000, 2430143522320, 2430143526288, 2430143521744, 2430143526544, 2430143518800]\n",
      "2430143523152\n",
      "2430143522000\n",
      "2430143522320\n",
      "2430143526288\n",
      "2430143521744\n",
      "2430143526544\n",
      "2430143518800\n",
      "Parameter x = 4.0; dL/d[x] = 13.0\n",
      "Parameter y = 4.0; dL/d[y] = 5.0\n"
     ]
    }
   ],
   "source": [
    "x = Parameter(4.0, 'x')\n",
    "y = Parameter(4.0, 'y')\n",
    "w = Parameter(4.0, 'w')\n",
    "\n",
    "u1 = x + y\n",
    "u2 = u1 * x\n",
    "u3 = u2 + w\n",
    "L = u1 + u3\n",
    "L.backward()\n",
    "print_testpr([x,y])"
   ]
  },
  {
   "cell_type": "code",
   "execution_count": 130,
   "id": "7940f44b",
   "metadata": {},
   "outputs": [
    {
     "data": {
      "text/plain": [
       "(tensor(13.), tensor(5.))"
      ]
     },
     "execution_count": 130,
     "metadata": {},
     "output_type": "execute_result"
    }
   ],
   "source": [
    "import torch\n",
    "x = torch.tensor(4., requires_grad=True)\n",
    "y = torch.tensor(4., requires_grad=True)\n",
    "w = torch.tensor(4., requires_grad=True)\n",
    "u1 = x + y\n",
    "u2 = u1 * x\n",
    "u3 = u2 + w\n",
    "L = u1 + u3\n",
    "L.backward()\n",
    "x.grad, y.grad"
   ]
  },
  {
   "cell_type": "markdown",
   "id": "c18fd663",
   "metadata": {},
   "source": [
    "## Task 2-3"
   ]
  },
  {
   "cell_type": "code",
   "execution_count": 131,
   "id": "ba992660",
   "metadata": {},
   "outputs": [],
   "source": [
    "N = 20"
   ]
  },
  {
   "cell_type": "code",
   "execution_count": 132,
   "id": "f93224c5",
   "metadata": {},
   "outputs": [
    {
     "name": "stdout",
     "output_type": "stream",
     "text": [
      "Before:\n",
      "Parameter max(0, [w2 * max(0, [w1 * x + b]) + b]) = 9.0; dL/d[max(0, [w2 * max(0, [w1 * x + b]) + b])] = 0.0\n",
      "Parameter w1 = 1.0; dL/d[w1] = 0.0\n",
      "Parameter w2 = 2.0; dL/d[w2] = 0.0\n",
      "Parameter b = 1.0; dL/d[b] = 0.0\n",
      "[2430143290768, 2430143293328, 2430143283600, 2429364125584, 2430143297552, 2430143297872, 2430143290000, 2429364118928, 2429364123856, 2430143516752]\n",
      "2430143290768\n",
      "2430143293328\n",
      "2430143283600\n",
      "2429364125584\n",
      "2430143297552\n",
      "2430143297872\n",
      "2430143290000\n",
      "2429364118928\n",
      "2429364123856\n",
      "2430143516752\n",
      "[2430143641936, 2430143636368, 2430143637776, 2429364125584, 2430143639888, 2430143637264, 2430143641872, 2429364118928, 2429364123856, 2430143516752]\n",
      "2430143641936\n",
      "2430143636368\n",
      "2430143637776\n",
      "2429364125584\n",
      "2430143639888\n",
      "2430143637264\n",
      "2430143641872\n",
      "2429364118928\n",
      "2429364123856\n",
      "2430143516752\n",
      "[2430143283600, 2430143297872, 2430143290768, 2429364125584, 2430143635984, 2430143633808, 2430143640400, 2429364118928, 2429364123856, 2430143516752]\n",
      "2430143283600\n",
      "2430143297872\n",
      "2430143290768\n",
      "2429364125584\n",
      "2430143635984\n",
      "2430143633808\n",
      "2430143640400\n",
      "2429364118928\n",
      "2429364123856\n",
      "2430143516752\n",
      "[2430143642896, 2430143643088, 2430143519120, 2429364125584, 2430143519504, 2430143521232, 2430143522192, 2429364118928, 2429364123856, 2430143516752]\n",
      "2430143642896\n",
      "2430143643088\n",
      "2430143519120\n",
      "2429364125584\n",
      "2430143519504\n",
      "2430143521232\n",
      "2430143522192\n",
      "2429364118928\n",
      "2429364123856\n",
      "2430143516752\n",
      "[2430143640848, 2430143634384, 2430143642320, 2429364125584, 2430143642640, 2430143643024, 2430143642256, 2429364118928, 2429364123856, 2430143516752]\n",
      "2430143640848\n",
      "2430143634384\n",
      "2430143642320\n",
      "2429364125584\n",
      "2430143642640\n",
      "2430143643024\n",
      "2430143642256\n",
      "2429364118928\n",
      "2429364123856\n",
      "2430143516752\n",
      "[2430143640528, 2430143629008, 2430143640592, 2429364125584, 2430143636688, 2430143638352, 2430143639760, 2429364118928, 2429364123856, 2430143516752]\n",
      "2430143640528\n",
      "2430143629008\n",
      "2430143640592\n",
      "2429364125584\n",
      "2430143636688\n",
      "2430143638352\n",
      "2430143639760\n",
      "2429364118928\n",
      "2429364123856\n",
      "2430143516752\n",
      "[2430143562192, 2430143564624, 2430143564176, 2429364125584, 2430143565072, 2430143573712, 2430143569488, 2429364118928, 2429364123856, 2430143516752]\n",
      "2430143562192\n",
      "2430143564624\n",
      "2430143564176\n",
      "2429364125584\n",
      "2430143565072\n",
      "2430143573712\n",
      "2430143569488\n",
      "2429364118928\n",
      "2429364123856\n",
      "2430143516752\n",
      "[2430143574096, 2430143570576, 2430143565584, 2429364125584, 2430143574032, 2430143576400, 2430143563536, 2429364118928, 2429364123856, 2430143516752]\n",
      "2430143574096\n",
      "2430143570576\n",
      "2430143565584\n",
      "2429364125584\n",
      "2430143574032\n",
      "2430143576400\n",
      "2430143563536\n",
      "2429364118928\n",
      "2429364123856\n",
      "2430143516752\n",
      "[2430143571600, 2430143570320, 2430143562576, 2429364125584, 2430143562960, 2430143572240, 2430143575568, 2429364118928, 2429364123856, 2430143516752]\n",
      "2430143571600\n",
      "2430143570320\n",
      "2430143562576\n",
      "2429364125584\n",
      "2430143562960\n",
      "2430143572240\n",
      "2430143575568\n",
      "2429364118928\n",
      "2429364123856\n",
      "2430143516752\n",
      "[2430143569552, 2430143564496, 2430143569104, 2429364125584, 2430143566736, 2430143568016, 2430143570448, 2429364118928, 2429364123856, 2430143516752]\n",
      "2430143569552\n",
      "2430143564496\n",
      "2430143569104\n",
      "2429364125584\n",
      "2430143566736\n",
      "2430143568016\n",
      "2430143570448\n",
      "2429364118928\n",
      "2429364123856\n",
      "2430143516752\n",
      "[2430143746576, 2430143747536, 2430143748496, 2429364125584, 2430143747920, 2430143748112, 2430143753168, 2429364118928, 2429364123856, 2430143516752]\n",
      "2430143746576\n",
      "2430143747536\n",
      "2430143748496\n",
      "2429364125584\n",
      "2430143747920\n",
      "2430143748112\n",
      "2430143753168\n",
      "2429364118928\n",
      "2429364123856\n",
      "2430143516752\n",
      "[2430143751056, 2430143751760, 2430143752848, 2429364125584, 2430143752336, 2430143754832, 2430143743504, 2429364118928, 2429364123856, 2430143516752]\n",
      "2430143751056\n",
      "2430143751760\n",
      "2430143752848\n",
      "2429364125584\n",
      "2430143752336\n",
      "2430143754832\n",
      "2430143743504\n",
      "2429364118928\n",
      "2429364123856\n",
      "2430143516752\n",
      "[2430143545040, 2430143544720, 2430143749200, 2429364125584, 2430143742672, 2430143747152, 2430143742416, 2429364118928, 2429364123856, 2430143516752]\n",
      "2430143545040\n",
      "2430143544720\n",
      "2430143749200\n",
      "2429364125584\n",
      "2430143742672\n",
      "2430143747152\n",
      "2430143742416\n",
      "2429364118928\n",
      "2429364123856\n",
      "2430143516752\n",
      "[2430143536720, 2430143539216, 2430143537360, 2429364125584, 2430143537104, 2430143535632, 2430143529296, 2429364118928, 2429364123856, 2430143516752]\n",
      "2430143536720\n",
      "2430143539216\n",
      "2430143537360\n",
      "2429364125584\n",
      "2430143537104\n",
      "2430143535632\n",
      "2430143529296\n",
      "2429364118928\n",
      "2429364123856\n",
      "2430143516752\n",
      "[2430143532112, 2430143533008, 2430143532944, 2429364125584, 2430143534096, 2430143534224, 2430143533712, 2429364118928, 2429364123856, 2430143516752]\n",
      "2430143532112\n",
      "2430143533008\n",
      "2430143532944\n",
      "2429364125584\n",
      "2430143534096\n",
      "2430143534224\n",
      "2430143533712\n",
      "2429364118928\n",
      "2429364123856\n",
      "2430143516752\n",
      "[2430143529872, 2430143529936, 2430143529424, 2429364125584, 2430143529488, 2430143531984, 2430143531472, 2429364118928, 2429364123856, 2430143516752]\n",
      "2430143529872\n",
      "2430143529936\n",
      "2430143529424\n",
      "2429364125584\n",
      "2430143529488\n",
      "2430143531984\n",
      "2430143531472\n",
      "2429364118928\n",
      "2429364123856\n",
      "2430143516752\n",
      "[2430119353744, 2430143542672, 2430143539472, 2429364125584, 2430143536272, 2430143531152, 2430143535184, 2429364118928, 2429364123856, 2430143516752]\n",
      "2430119353744\n",
      "2430143542672\n",
      "2430143539472\n",
      "2429364125584\n",
      "2430143536272\n",
      "2430143531152\n",
      "2430143535184\n",
      "2429364118928\n",
      "2429364123856\n",
      "2430143516752\n",
      "[2430143536592, 2430143539216, 2430143537104, 2429364125584, 2430143529296, 2430143536720, 2430143533904, 2429364118928, 2429364123856, 2430143516752]\n",
      "2430143536592\n",
      "2430143539216\n",
      "2430143537104\n",
      "2429364125584\n",
      "2430143529296\n",
      "2430143536720\n",
      "2430143533904\n",
      "2429364118928\n",
      "2429364123856\n",
      "2430143516752\n",
      "[2430143752336, 2430143743504, 2430143751056, 2429364125584, 2430143746000, 2430143744720, 2430143749200, 2429364118928, 2429364123856, 2430143516752]\n",
      "2430143752336\n",
      "2430143743504\n",
      "2430143751056\n",
      "2429364125584\n",
      "2430143746000\n",
      "2430143744720\n",
      "2430143749200\n",
      "2429364118928\n",
      "2429364123856\n",
      "2430143516752\n",
      "[2430143569552, 2430143753808, 2430143747792, 2429364125584, 2430143746320, 2430143747536, 2430143748112, 2429364118928, 2429364123856, 2430143516752]\n",
      "2430143569552\n",
      "2430143753808\n",
      "2430143747792\n",
      "2429364125584\n",
      "2430143746320\n",
      "2430143747536\n",
      "2430143748112\n",
      "2429364118928\n",
      "2429364123856\n",
      "2430143516752\n",
      "After:\n",
      "Parameter max(0, [w2 * max(0, [w1 * x + b]) + b]) = 0; dL/d[max(0, [w2 * max(0, [w1 * x + b]) + b])] = 0.0\n",
      "Parameter w1 = -35.0; dL/d[w1] = 6.0\n",
      "Parameter w2 = -21.999999999999993; dL/d[w2] = 4.0\n",
      "Parameter b = -22.699999999999992; dL/d[b] = 4.0\n"
     ]
    }
   ],
   "source": [
    "x = Parameter(3.0, 'x')\n",
    "b = Parameter(1.0, 'b')\n",
    "\n",
    "w1 = Parameter(1.0, 'w1')\n",
    "w2 = Parameter(2.0, 'w2')\n",
    "parameters = [w1, w2, b]\n",
    "L = (w2*(w1*x+b).ReLU()+b).ReLU()\n",
    "print(\"Before:\")\n",
    "print(L)\n",
    "print_testpr(parameters)\n",
    "for i in range(N):\n",
    "    L.backward()\n",
    "    sgd(parameters)\n",
    "    L = (w2*(w1*x+b).ReLU()+b).ReLU()\n",
    "print(\"After:\")\n",
    "print(L)\n",
    "print_testpr(parameters)"
   ]
  }
 ],
 "metadata": {
  "kernelspec": {
   "display_name": "Python 3 (ipykernel)",
   "language": "python",
   "name": "python3"
  },
  "language_info": {
   "codemirror_mode": {
    "name": "ipython",
    "version": 3
   },
   "file_extension": ".py",
   "mimetype": "text/x-python",
   "name": "python",
   "nbconvert_exporter": "python",
   "pygments_lexer": "ipython3",
   "version": "3.11.5"
  }
 },
 "nbformat": 4,
 "nbformat_minor": 5
}
