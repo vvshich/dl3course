{
 "cells": [
  {
   "cell_type": "markdown",
   "id": "7068f145-1394-45d8-8fe5-a4fdf4f9e1ec",
   "metadata": {},
   "source": [
    "# Lab2: Backpropagation handmade"
   ]
  },
  {
   "cell_type": "code",
   "execution_count": 94,
   "id": "1d2bc8d1-abfa-467e-aec9-bf58ae3cb597",
   "metadata": {},
   "outputs": [],
   "source": [
    "# 1. Build the class for math expressions\n",
    "# 2. Build some basic operations\n",
    "# 3. Build computation graph\n",
    "# 4. Build some activations\n",
    "# 5. Build backpropagation"
   ]
  },
  {
   "cell_type": "code",
   "execution_count": 95,
   "id": "f10e0756-975b-4e33-9ff5-ccaa92435596",
   "metadata": {},
   "outputs": [],
   "source": [
    "import numpy as np\n",
    "from collections import defaultdict\n",
    "\n",
    "import math\n",
    "import matplotlib.pyplot as plt"
   ]
  },
  {
   "cell_type": "code",
   "execution_count": 96,
   "id": "f0f19fa0",
   "metadata": {},
   "outputs": [],
   "source": [
    "def print_testpr(l):\n",
    "    for i in l:\n",
    "        print(i)"
   ]
  },
  {
   "cell_type": "code",
   "execution_count": 97,
   "id": "2090da17-3cbe-4551-9104-73e02ae1f7d4",
   "metadata": {},
   "outputs": [],
   "source": [
    "from graphlib import TopologicalSorter\n",
    "class Parameter:\n",
    "    def __init__(self, value: float, name: str) -> None:\n",
    "        self._value = value\n",
    "        self._name = name\n",
    "\n",
    "        self._grad = 0.0\n",
    "        self._backward = lambda: None\n",
    "        \n",
    "        self.parameters = dict()\n",
    "        self.parameters[name] = self\n",
    "        self._graph = defaultdict(set)\n",
    "        self._graph[self._name] = set()\n",
    "\n",
    "    def __repr__(self) -> str:\n",
    "        return f\"Parameter {self._name} = {self._value}; dL/d[{self._name}] = {self._grad}\"\n",
    "\n",
    "    def __mul__(self, other):\n",
    "        result = Parameter(\n",
    "            self._value * other._value,\n",
    "            f'{self._name} * {other._name}'\n",
    "        )\n",
    "        \n",
    "        result.parameters.update(self.parameters)\n",
    "        result.parameters.update(other.parameters)\n",
    "        result.parameters[result._name] = result\n",
    "        \n",
    "        result._graph.update(self._graph)\n",
    "        result._graph.update(other._graph)\n",
    "        result._graph[result._name].add(self._name)\n",
    "        result._graph[result._name].add(other._name)\n",
    "\n",
    "        def _backward():\n",
    "            self._grad += other._value * result._grad #dL / dself\n",
    "            other._grad += self._value * result._grad # dL / dother\n",
    "\n",
    "        result._backward = _backward\n",
    "\n",
    "        return result\n",
    "\n",
    "    def __add__(self, other):\n",
    "        result = Parameter(\n",
    "            self._value + other._value,\n",
    "            f'[{self._name} + {other._name}]'\n",
    "        )\n",
    "        \n",
    "        result.parameters.update(self.parameters)\n",
    "        result.parameters.update(other.parameters)\n",
    "        result.parameters[result._name] = result\n",
    "        \n",
    "        result._graph.update(self._graph)\n",
    "        result._graph.update(other._graph)\n",
    "        result._graph[result._name].add(self._name)\n",
    "        result._graph[result._name].add(other._name)\n",
    "\n",
    "        def _backward():\n",
    "            self._grad += 1.0 * result._grad  #dL / dself\n",
    "            other._grad += 1.0 * result._grad # dL / dother\n",
    "\n",
    "        result._backward = _backward\n",
    "\n",
    "        return result\n",
    "\n",
    "    def sigmoid(self):\n",
    "        # f(x) = 1 / (1 + exp(self._value))\n",
    "        # f'(x) = f(x) * (1 - f(x))\n",
    "\n",
    "        val = 1.0 / (1.0 + math.exp(-self._value))\n",
    "\n",
    "        result = Parameter(\n",
    "            val,\n",
    "            f\"σ({self._name})\"\n",
    "        )\n",
    "        \n",
    "        result.parameters.update(self.parameters)\n",
    "        result.parameters[result._name] = result\n",
    "        \n",
    "        result._graph.update(self._graph)\n",
    "        result._graph[result._name].add(self._name)\n",
    "        \n",
    "        def _backward():\n",
    "            self._grad = result._grad * val * (1 - val)\n",
    "\n",
    "        result._backward = _backward\n",
    "\n",
    "        return result\n",
    "\n",
    "    def _topological_sort(self):\n",
    "        in_degree = {node: 0 for node in self._graph}\n",
    "        for node in self._graph:\n",
    "            for neighbor in self._graph[node]:\n",
    "                in_degree[neighbor] += 1\n",
    "\n",
    "        queue = [node for node in self._graph if in_degree[node] == 0]\n",
    "        result = []\n",
    "\n",
    "        while queue:\n",
    "            current_node = queue.pop(0)\n",
    "            result.append(current_node)\n",
    "\n",
    "            for neighbor in self._graph[current_node]:\n",
    "                in_degree[neighbor] -= 1\n",
    "                if in_degree[neighbor] == 0:\n",
    "                    queue.append(neighbor)\n",
    "\n",
    "        return result\n",
    "\n",
    "    def backward(self):\n",
    "        queue = self._topological_sort()\n",
    "        print(queue)\n",
    "        self._grad = 1\n",
    "        for i in queue:\n",
    "            print(i)\n",
    "            self.parameters[i]._backward()\n",
    "            \n",
    "            \n",
    "\n",
    "\n",
    "    def SiLU(self):\n",
    "        # LAB 2 TASK 2\n",
    "        # f(x) = x*sigma(x)\n",
    "        # f'(x) = sigma(x) + x*sigma(x)*(1-sigma(x))\n",
    "        val = self._value * self.sigmoid()._value\n",
    "\n",
    "        result = Parameter(\n",
    "            val,\n",
    "            f\"{self._name}*σ({self._name})\"\n",
    "        )\n",
    "        \n",
    "        result.parameters.update(self.parameters)\n",
    "        result.parameters[result._name] = result\n",
    "        result._graph.update(self._graph)\n",
    "        result._graph[result._name].add(self._name)\n",
    "        \n",
    "        def _backward():\n",
    "            self._grad = result._grad * ( self.sigmoid()._value + self._value*self.sigmoid()._value*(1-self.sigmoid()._value) )\n",
    "\n",
    "        result._backward = _backward\n",
    "\n",
    "        return result\n",
    "        \n",
    "\n",
    "    def ReLU(self):\n",
    "        # LAB 2 TASK 2\n",
    "        # f(x) = max(0, x)\n",
    "        # f'(x) = z>0\n",
    "        val = max(0, self._value)\n",
    "\n",
    "        result = Parameter(\n",
    "            val,\n",
    "            f\"max(0, {self._name})\"\n",
    "        )\n",
    "        \n",
    "        result.parameters.update(self.parameters)\n",
    "        result.parameters[result._name] = result\n",
    "        result._graph.update(self._graph)\n",
    "        result._graph[result._name].add(self._name)\n",
    "        \n",
    "        def _backward():\n",
    "            self._grad = result._grad * ( self._value > 0 )\n",
    "\n",
    "        result._backward = _backward\n",
    "\n",
    "        return result"
   ]
  },
  {
   "cell_type": "code",
   "execution_count": 98,
   "id": "cc6183e2",
   "metadata": {},
   "outputs": [],
   "source": [
    "def sgd(parameters: list, learning_rate = 0.3): \n",
    "    for j in parameters:\n",
    "        j._value -= learning_rate * j._grad        \n",
    "    return parameters"
   ]
  },
  {
   "cell_type": "markdown",
   "id": "cc966218",
   "metadata": {},
   "source": [
    "## Task 1"
   ]
  },
  {
   "cell_type": "markdown",
   "id": "ff3a4e96",
   "metadata": {},
   "source": [
    "### Test 1"
   ]
  },
  {
   "cell_type": "code",
   "execution_count": 99,
   "id": "27fd73e5-da08-4969-9038-935b2d17f2d2",
   "metadata": {},
   "outputs": [],
   "source": [
    "a = Parameter(3.0, 'a')\n",
    "b = Parameter(2.0, 'b')\n",
    "c = Parameter(5.0, 'c')\n",
    "d = Parameter(5.0, 'd')"
   ]
  },
  {
   "cell_type": "code",
   "execution_count": 100,
   "id": "417e6a53-da64-4506-902f-5330a5463a5b",
   "metadata": {},
   "outputs": [
    {
     "name": "stdout",
     "output_type": "stream",
     "text": [
      "Parameter a = 3.0; dL/d[a] = 0.0\n",
      "Parameter b = 2.0; dL/d[b] = 0.0\n",
      "Parameter c = 5.0; dL/d[c] = 0.0\n",
      "Parameter d = 5.0; dL/d[d] = 0.0\n"
     ]
    }
   ],
   "source": [
    "print(a)\n",
    "print(b)\n",
    "print(c)\n",
    "print(d)"
   ]
  },
  {
   "cell_type": "code",
   "execution_count": 101,
   "id": "a2f9a3a6-b195-46df-9697-52b0b61fe6c8",
   "metadata": {},
   "outputs": [],
   "source": [
    "u = a * b\n",
    "v = u + c\n",
    "L = v * d"
   ]
  },
  {
   "cell_type": "code",
   "execution_count": 102,
   "id": "1cc17795-a494-4883-a79f-8a788ef0877c",
   "metadata": {},
   "outputs": [
    {
     "name": "stdout",
     "output_type": "stream",
     "text": [
      "['[a * b + c] * d', 'd', '[a * b + c]', 'a * b', 'c', 'b', 'a']\n",
      "[a * b + c] * d\n",
      "d\n",
      "[a * b + c]\n",
      "a * b\n",
      "c\n",
      "b\n",
      "a\n"
     ]
    }
   ],
   "source": [
    "L.backward()"
   ]
  },
  {
   "cell_type": "code",
   "execution_count": 103,
   "id": "9318f268",
   "metadata": {},
   "outputs": [
    {
     "name": "stdout",
     "output_type": "stream",
     "text": [
      "Parameter [a * b + c] * d = 55.0; dL/d[[a * b + c] * d] = 1\n",
      "Parameter [a * b + c] = 11.0; dL/d[[a * b + c]] = 5.0\n",
      "Parameter d = 5.0; dL/d[d] = 11.0\n",
      "Parameter a * b = 6.0; dL/d[a * b] = 5.0\n",
      "Parameter c = 5.0; dL/d[c] = 5.0\n",
      "Parameter a = 3.0; dL/d[a] = 10.0\n",
      "Parameter b = 2.0; dL/d[b] = 15.0\n"
     ]
    }
   ],
   "source": [
    "l1 = [ L, v, d, u, c, a, b]\n",
    "print_testpr(l1)"
   ]
  },
  {
   "cell_type": "markdown",
   "id": "ef3d6dbb",
   "metadata": {},
   "source": [
    "### Test 2"
   ]
  },
  {
   "cell_type": "code",
   "execution_count": 104,
   "id": "a13ab54d",
   "metadata": {},
   "outputs": [],
   "source": [
    "y1 = Parameter(3.0, 'y1')\n",
    "y2 = Parameter(2.0, 'y2')\n",
    "c1 = Parameter(7.0, 'c1')\n",
    "c2 = Parameter(5.0, 'c2')"
   ]
  },
  {
   "cell_type": "code",
   "execution_count": 105,
   "id": "e05ca0ea",
   "metadata": {},
   "outputs": [],
   "source": [
    "y1c1 = y1*c1\n",
    "y2c2y1 = y2*c2*y1\n",
    "our = y1c1 + y2c2y1"
   ]
  },
  {
   "cell_type": "code",
   "execution_count": 106,
   "id": "0d80040f",
   "metadata": {},
   "outputs": [
    {
     "name": "stdout",
     "output_type": "stream",
     "text": [
      "['[y1 * c1 + y2 * c2 * y1]', 'y1 * c1', 'y2 * c2 * y1', 'c1', 'y2 * c2', 'y1', 'y2', 'c2']\n",
      "[y1 * c1 + y2 * c2 * y1]\n",
      "y1 * c1\n",
      "y2 * c2 * y1\n",
      "c1\n",
      "y2 * c2\n",
      "y1\n",
      "y2\n",
      "c2\n"
     ]
    }
   ],
   "source": [
    "our.backward()"
   ]
  },
  {
   "cell_type": "code",
   "execution_count": 107,
   "id": "fa97cf0b",
   "metadata": {},
   "outputs": [
    {
     "name": "stdout",
     "output_type": "stream",
     "text": [
      "Parameter [y1 * c1 + y2 * c2 * y1] = 51.0; dL/d[[y1 * c1 + y2 * c2 * y1]] = 1\n",
      "Parameter y2 * c2 * y1 = 30.0; dL/d[y2 * c2 * y1] = 1.0\n",
      "Parameter y1 * c1 = 21.0; dL/d[y1 * c1] = 1.0\n",
      "Parameter y1 = 3.0; dL/d[y1] = 17.0\n",
      "Parameter y2 = 2.0; dL/d[y2] = 15.0\n",
      "Parameter c1 = 7.0; dL/d[c1] = 3.0\n",
      "Parameter c2 = 5.0; dL/d[c2] = 6.0\n"
     ]
    }
   ],
   "source": [
    "test = [our, y2c2y1, y1c1, y1, y2, c1, c2]\n",
    "print_testpr(test)"
   ]
  },
  {
   "cell_type": "markdown",
   "id": "468c9ef0",
   "metadata": {},
   "source": [
    "#### Test 3"
   ]
  },
  {
   "cell_type": "code",
   "execution_count": 108,
   "id": "2d3b7d20-2402-4074-9e45-39758425de21",
   "metadata": {},
   "outputs": [],
   "source": [
    "x1 = Parameter(3.0, 'x1')\n",
    "x2 = Parameter(4.0, 'x2')\n",
    "\n",
    "w1 = Parameter(1.0, 'w1')\n",
    "w2 = Parameter(2.0, 'w2')\n",
    "\n",
    "x1w1 = x1 * w1\n",
    "x2w2 = x2 * w2\n",
    "xw = x1w1 + x2w2\n",
    "out = xw.sigmoid()"
   ]
  },
  {
   "cell_type": "code",
   "execution_count": 109,
   "id": "8e552b23",
   "metadata": {},
   "outputs": [
    {
     "name": "stdout",
     "output_type": "stream",
     "text": [
      "['σ([x1 * w1 + x2 * w2])', '[x1 * w1 + x2 * w2]', 'x2 * w2', 'x1 * w1', 'x2', 'w2', 'x1', 'w1']\n",
      "σ([x1 * w1 + x2 * w2])\n",
      "[x1 * w1 + x2 * w2]\n",
      "x2 * w2\n",
      "x1 * w1\n",
      "x2\n",
      "w2\n",
      "x1\n",
      "w1\n"
     ]
    }
   ],
   "source": [
    "out.backward()"
   ]
  },
  {
   "cell_type": "code",
   "execution_count": 110,
   "id": "e4002593-c87e-48f1-b20b-7f6d4d627d4e",
   "metadata": {},
   "outputs": [
    {
     "name": "stdout",
     "output_type": "stream",
     "text": [
      "Parameter σ([x1 * w1 + x2 * w2]) = 0.999983298578152; dL/d[σ([x1 * w1 + x2 * w2])] = 1\n",
      "Parameter [x1 * w1 + x2 * w2] = 11.0; dL/d[[x1 * w1 + x2 * w2]] = 1.670114291046157e-05\n",
      "Parameter x2 * w2 = 8.0; dL/d[x2 * w2] = 1.670114291046157e-05\n",
      "Parameter x1 * w1 = 3.0; dL/d[x1 * w1] = 1.670114291046157e-05\n",
      "Parameter x1 = 3.0; dL/d[x1] = 1.670114291046157e-05\n",
      "Parameter x2 = 4.0; dL/d[x2] = 3.340228582092314e-05\n",
      "Parameter w1 = 1.0; dL/d[w1] = 5.010342873138471e-05\n",
      "Parameter w2 = 2.0; dL/d[w2] = 6.680457164184628e-05\n"
     ]
    }
   ],
   "source": [
    "l2 = [out, xw, x2w2, x1w1, x1, x2, w1, w2]\n",
    "print_testpr(l2)"
   ]
  },
  {
   "cell_type": "markdown",
   "id": "714c8dfb",
   "metadata": {},
   "source": [
    "#### Test 4"
   ]
  },
  {
   "cell_type": "code",
   "execution_count": 111,
   "id": "035eb554",
   "metadata": {},
   "outputs": [
    {
     "name": "stdout",
     "output_type": "stream",
     "text": [
      "['x1 * x1', 'x1']\n",
      "x1 * x1\n",
      "x1\n"
     ]
    }
   ],
   "source": [
    "xx = x1*x1\n",
    "xx.backward()"
   ]
  },
  {
   "cell_type": "code",
   "execution_count": 112,
   "id": "96ca2dcc",
   "metadata": {},
   "outputs": [
    {
     "data": {
      "text/plain": [
       "(Parameter x1 * x1 = 9.0; dL/d[x1 * x1] = 1,\n",
       " Parameter x1 = 3.0; dL/d[x1] = 6.00001670114291)"
      ]
     },
     "execution_count": 112,
     "metadata": {},
     "output_type": "execute_result"
    }
   ],
   "source": [
    "xx, x1"
   ]
  },
  {
   "cell_type": "markdown",
   "id": "4415907e",
   "metadata": {},
   "source": [
    "#### Test 5"
   ]
  },
  {
   "cell_type": "code",
   "execution_count": 113,
   "id": "f49fdf6b",
   "metadata": {},
   "outputs": [],
   "source": [
    "x = Parameter(4, \"x\")\n",
    "y = Parameter(5, \"y\")\n",
    "Lout = x*(x*x+y)"
   ]
  },
  {
   "cell_type": "code",
   "execution_count": 120,
   "id": "31898791",
   "metadata": {},
   "outputs": [
    {
     "name": "stdout",
     "output_type": "stream",
     "text": [
      "['x * [x * x + y]', '[x * x + y]', 'x * x', 'y', 'x']\n",
      "x * [x * x + y]\n",
      "[x * x + y]\n",
      "x * x\n",
      "y\n",
      "x\n",
      "x\n"
     ]
    }
   ],
   "source": [
    "Lout.backward()"
   ]
  },
  {
   "cell_type": "code",
   "execution_count": 115,
   "id": "9ca335c2",
   "metadata": {},
   "outputs": [
    {
     "name": "stdout",
     "output_type": "stream",
     "text": [
      "Parameter x * [x * x + y] = 84; dL/d[x * [x * x + y]] = 1\n",
      "Parameter x = 4; dL/d[x] = 53.0\n",
      "Parameter y = 5; dL/d[y] = 4.0\n"
     ]
    }
   ],
   "source": [
    "test2 = [Lout, x, y]\n",
    "print_testpr(test2)"
   ]
  },
  {
   "cell_type": "markdown",
   "id": "c18fd663",
   "metadata": {},
   "source": [
    "## Task 2-3"
   ]
  },
  {
   "cell_type": "code",
   "execution_count": 92,
   "id": "ba992660",
   "metadata": {},
   "outputs": [],
   "source": [
    "N = 20"
   ]
  },
  {
   "cell_type": "code",
   "execution_count": 93,
   "id": "f93224c5",
   "metadata": {},
   "outputs": [
    {
     "name": "stdout",
     "output_type": "stream",
     "text": [
      "Before:\n",
      "Parameter max(0, [w2 * max(0, [w1 * x + b]) + b]) = 9.0; dL/d[max(0, [w2 * max(0, [w1 * x + b]) + b])] = 0.0\n",
      "Parameter w1 = 1.0; dL/d[w1] = 0.0\n",
      "Parameter w2 = 2.0; dL/d[w2] = 0.0\n",
      "Parameter b = 1.0; dL/d[b] = 0.0\n",
      "['max(0, [w2 * max(0, [w1 * x + b]) + b])', '[w2 * max(0, [w1 * x + b]) + b]', 'w2 * max(0, [w1 * x + b])', 'max(0, [w1 * x + b])', 'w2', '[w1 * x + b]', 'b', 'w1 * x', 'x', 'w1']\n",
      "max(0, [w2 * max(0, [w1 * x + b]) + b])\n",
      "[w2 * max(0, [w1 * x + b]) + b]\n",
      "w2 * max(0, [w1 * x + b])\n",
      "max(0, [w1 * x + b])\n",
      "w2\n",
      "[w1 * x + b]\n",
      "b\n",
      "w1 * x\n",
      "x\n",
      "w1\n",
      "['max(0, [w2 * max(0, [w1 * x + b]) + b])', '[w2 * max(0, [w1 * x + b]) + b]', 'w2 * max(0, [w1 * x + b])', 'max(0, [w1 * x + b])', 'w2', '[w1 * x + b]', 'b', 'w1 * x', 'x', 'w1']\n",
      "max(0, [w2 * max(0, [w1 * x + b]) + b])\n",
      "[w2 * max(0, [w1 * x + b]) + b]\n",
      "w2 * max(0, [w1 * x + b])\n",
      "max(0, [w1 * x + b])\n",
      "w2\n",
      "[w1 * x + b]\n",
      "b\n",
      "w1 * x\n",
      "x\n",
      "w1\n",
      "['max(0, [w2 * max(0, [w1 * x + b]) + b])', '[w2 * max(0, [w1 * x + b]) + b]', 'w2 * max(0, [w1 * x + b])', 'max(0, [w1 * x + b])', 'w2', '[w1 * x + b]', 'b', 'w1 * x', 'x', 'w1']\n",
      "max(0, [w2 * max(0, [w1 * x + b]) + b])\n",
      "[w2 * max(0, [w1 * x + b]) + b]\n",
      "w2 * max(0, [w1 * x + b])\n",
      "max(0, [w1 * x + b])\n",
      "w2\n",
      "[w1 * x + b]\n",
      "b\n",
      "w1 * x\n",
      "x\n",
      "w1\n",
      "['max(0, [w2 * max(0, [w1 * x + b]) + b])', '[w2 * max(0, [w1 * x + b]) + b]', 'w2 * max(0, [w1 * x + b])', 'max(0, [w1 * x + b])', 'w2', '[w1 * x + b]', 'b', 'w1 * x', 'x', 'w1']\n",
      "max(0, [w2 * max(0, [w1 * x + b]) + b])\n",
      "[w2 * max(0, [w1 * x + b]) + b]\n",
      "w2 * max(0, [w1 * x + b])\n",
      "max(0, [w1 * x + b])\n",
      "w2\n",
      "[w1 * x + b]\n",
      "b\n",
      "w1 * x\n",
      "x\n",
      "w1\n",
      "['max(0, [w2 * max(0, [w1 * x + b]) + b])', '[w2 * max(0, [w1 * x + b]) + b]', 'w2 * max(0, [w1 * x + b])', 'max(0, [w1 * x + b])', 'w2', '[w1 * x + b]', 'b', 'w1 * x', 'x', 'w1']\n",
      "max(0, [w2 * max(0, [w1 * x + b]) + b])\n",
      "[w2 * max(0, [w1 * x + b]) + b]\n",
      "w2 * max(0, [w1 * x + b])\n",
      "max(0, [w1 * x + b])\n",
      "w2\n",
      "[w1 * x + b]\n",
      "b\n",
      "w1 * x\n",
      "x\n",
      "w1\n",
      "['max(0, [w2 * max(0, [w1 * x + b]) + b])', '[w2 * max(0, [w1 * x + b]) + b]', 'w2 * max(0, [w1 * x + b])', 'max(0, [w1 * x + b])', 'w2', '[w1 * x + b]', 'b', 'w1 * x', 'x', 'w1']\n",
      "max(0, [w2 * max(0, [w1 * x + b]) + b])\n",
      "[w2 * max(0, [w1 * x + b]) + b]\n",
      "w2 * max(0, [w1 * x + b])\n",
      "max(0, [w1 * x + b])\n",
      "w2\n",
      "[w1 * x + b]\n",
      "b\n",
      "w1 * x\n",
      "x\n",
      "w1\n",
      "['max(0, [w2 * max(0, [w1 * x + b]) + b])', '[w2 * max(0, [w1 * x + b]) + b]', 'w2 * max(0, [w1 * x + b])', 'max(0, [w1 * x + b])', 'w2', '[w1 * x + b]', 'b', 'w1 * x', 'x', 'w1']\n",
      "max(0, [w2 * max(0, [w1 * x + b]) + b])\n",
      "[w2 * max(0, [w1 * x + b]) + b]\n",
      "w2 * max(0, [w1 * x + b])\n",
      "max(0, [w1 * x + b])\n",
      "w2\n",
      "[w1 * x + b]\n",
      "b\n",
      "w1 * x\n",
      "x\n",
      "w1\n",
      "['max(0, [w2 * max(0, [w1 * x + b]) + b])', '[w2 * max(0, [w1 * x + b]) + b]', 'w2 * max(0, [w1 * x + b])', 'max(0, [w1 * x + b])', 'w2', '[w1 * x + b]', 'b', 'w1 * x', 'x', 'w1']\n",
      "max(0, [w2 * max(0, [w1 * x + b]) + b])\n",
      "[w2 * max(0, [w1 * x + b]) + b]\n",
      "w2 * max(0, [w1 * x + b])\n",
      "max(0, [w1 * x + b])\n",
      "w2\n",
      "[w1 * x + b]\n",
      "b\n",
      "w1 * x\n",
      "x\n",
      "w1\n",
      "['max(0, [w2 * max(0, [w1 * x + b]) + b])', '[w2 * max(0, [w1 * x + b]) + b]', 'w2 * max(0, [w1 * x + b])', 'max(0, [w1 * x + b])', 'w2', '[w1 * x + b]', 'b', 'w1 * x', 'x', 'w1']\n",
      "max(0, [w2 * max(0, [w1 * x + b]) + b])\n",
      "[w2 * max(0, [w1 * x + b]) + b]\n",
      "w2 * max(0, [w1 * x + b])\n",
      "max(0, [w1 * x + b])\n",
      "w2\n",
      "[w1 * x + b]\n",
      "b\n",
      "w1 * x\n",
      "x\n",
      "w1\n",
      "['max(0, [w2 * max(0, [w1 * x + b]) + b])', '[w2 * max(0, [w1 * x + b]) + b]', 'w2 * max(0, [w1 * x + b])', 'max(0, [w1 * x + b])', 'w2', '[w1 * x + b]', 'b', 'w1 * x', 'x', 'w1']\n",
      "max(0, [w2 * max(0, [w1 * x + b]) + b])\n",
      "[w2 * max(0, [w1 * x + b]) + b]\n",
      "w2 * max(0, [w1 * x + b])\n",
      "max(0, [w1 * x + b])\n",
      "w2\n",
      "[w1 * x + b]\n",
      "b\n",
      "w1 * x\n",
      "x\n",
      "w1\n",
      "['max(0, [w2 * max(0, [w1 * x + b]) + b])', '[w2 * max(0, [w1 * x + b]) + b]', 'w2 * max(0, [w1 * x + b])', 'max(0, [w1 * x + b])', 'w2', '[w1 * x + b]', 'b', 'w1 * x', 'x', 'w1']\n",
      "max(0, [w2 * max(0, [w1 * x + b]) + b])\n",
      "[w2 * max(0, [w1 * x + b]) + b]\n",
      "w2 * max(0, [w1 * x + b])\n",
      "max(0, [w1 * x + b])\n",
      "w2\n",
      "[w1 * x + b]\n",
      "b\n",
      "w1 * x\n",
      "x\n",
      "w1\n",
      "['max(0, [w2 * max(0, [w1 * x + b]) + b])', '[w2 * max(0, [w1 * x + b]) + b]', 'w2 * max(0, [w1 * x + b])', 'max(0, [w1 * x + b])', 'w2', '[w1 * x + b]', 'b', 'w1 * x', 'x', 'w1']\n",
      "max(0, [w2 * max(0, [w1 * x + b]) + b])\n",
      "[w2 * max(0, [w1 * x + b]) + b]\n",
      "w2 * max(0, [w1 * x + b])\n",
      "max(0, [w1 * x + b])\n",
      "w2\n",
      "[w1 * x + b]\n",
      "b\n",
      "w1 * x\n",
      "x\n",
      "w1\n",
      "['max(0, [w2 * max(0, [w1 * x + b]) + b])', '[w2 * max(0, [w1 * x + b]) + b]', 'w2 * max(0, [w1 * x + b])', 'max(0, [w1 * x + b])', 'w2', '[w1 * x + b]', 'b', 'w1 * x', 'x', 'w1']\n",
      "max(0, [w2 * max(0, [w1 * x + b]) + b])\n",
      "[w2 * max(0, [w1 * x + b]) + b]\n",
      "w2 * max(0, [w1 * x + b])\n",
      "max(0, [w1 * x + b])\n",
      "w2\n",
      "[w1 * x + b]\n",
      "b\n",
      "w1 * x\n",
      "x\n",
      "w1\n",
      "['max(0, [w2 * max(0, [w1 * x + b]) + b])', '[w2 * max(0, [w1 * x + b]) + b]', 'w2 * max(0, [w1 * x + b])', 'max(0, [w1 * x + b])', 'w2', '[w1 * x + b]', 'b', 'w1 * x', 'x', 'w1']\n",
      "max(0, [w2 * max(0, [w1 * x + b]) + b])\n",
      "[w2 * max(0, [w1 * x + b]) + b]\n",
      "w2 * max(0, [w1 * x + b])\n",
      "max(0, [w1 * x + b])\n",
      "w2\n",
      "[w1 * x + b]\n",
      "b\n",
      "w1 * x\n",
      "x\n",
      "w1\n",
      "['max(0, [w2 * max(0, [w1 * x + b]) + b])', '[w2 * max(0, [w1 * x + b]) + b]', 'w2 * max(0, [w1 * x + b])', 'max(0, [w1 * x + b])', 'w2', '[w1 * x + b]', 'b', 'w1 * x', 'x', 'w1']\n",
      "max(0, [w2 * max(0, [w1 * x + b]) + b])\n",
      "[w2 * max(0, [w1 * x + b]) + b]\n",
      "w2 * max(0, [w1 * x + b])\n",
      "max(0, [w1 * x + b])\n",
      "w2\n",
      "[w1 * x + b]\n",
      "b\n",
      "w1 * x\n",
      "x\n",
      "w1\n",
      "['max(0, [w2 * max(0, [w1 * x + b]) + b])', '[w2 * max(0, [w1 * x + b]) + b]', 'w2 * max(0, [w1 * x + b])', 'max(0, [w1 * x + b])', 'w2', '[w1 * x + b]', 'b', 'w1 * x', 'x', 'w1']\n",
      "max(0, [w2 * max(0, [w1 * x + b]) + b])\n",
      "[w2 * max(0, [w1 * x + b]) + b]\n",
      "w2 * max(0, [w1 * x + b])\n",
      "max(0, [w1 * x + b])\n",
      "w2\n",
      "[w1 * x + b]\n",
      "b\n",
      "w1 * x\n",
      "x\n",
      "w1\n",
      "['max(0, [w2 * max(0, [w1 * x + b]) + b])', '[w2 * max(0, [w1 * x + b]) + b]', 'w2 * max(0, [w1 * x + b])', 'max(0, [w1 * x + b])', 'w2', '[w1 * x + b]', 'b', 'w1 * x', 'x', 'w1']\n",
      "max(0, [w2 * max(0, [w1 * x + b]) + b])\n",
      "[w2 * max(0, [w1 * x + b]) + b]\n",
      "w2 * max(0, [w1 * x + b])\n",
      "max(0, [w1 * x + b])\n",
      "w2\n",
      "[w1 * x + b]\n",
      "b\n",
      "w1 * x\n",
      "x\n",
      "w1\n",
      "['max(0, [w2 * max(0, [w1 * x + b]) + b])', '[w2 * max(0, [w1 * x + b]) + b]', 'w2 * max(0, [w1 * x + b])', 'max(0, [w1 * x + b])', 'w2', '[w1 * x + b]', 'b', 'w1 * x', 'x', 'w1']\n",
      "max(0, [w2 * max(0, [w1 * x + b]) + b])\n",
      "[w2 * max(0, [w1 * x + b]) + b]\n",
      "w2 * max(0, [w1 * x + b])\n",
      "max(0, [w1 * x + b])\n",
      "w2\n",
      "[w1 * x + b]\n",
      "b\n",
      "w1 * x\n",
      "x\n",
      "w1\n",
      "['max(0, [w2 * max(0, [w1 * x + b]) + b])', '[w2 * max(0, [w1 * x + b]) + b]', 'w2 * max(0, [w1 * x + b])', 'max(0, [w1 * x + b])', 'w2', '[w1 * x + b]', 'b', 'w1 * x', 'x', 'w1']\n",
      "max(0, [w2 * max(0, [w1 * x + b]) + b])\n",
      "[w2 * max(0, [w1 * x + b]) + b]\n",
      "w2 * max(0, [w1 * x + b])\n",
      "max(0, [w1 * x + b])\n",
      "w2\n",
      "[w1 * x + b]\n",
      "b\n",
      "w1 * x\n",
      "x\n",
      "w1\n",
      "['max(0, [w2 * max(0, [w1 * x + b]) + b])', '[w2 * max(0, [w1 * x + b]) + b]', 'w2 * max(0, [w1 * x + b])', 'max(0, [w1 * x + b])', 'w2', '[w1 * x + b]', 'b', 'w1 * x', 'x', 'w1']\n",
      "max(0, [w2 * max(0, [w1 * x + b]) + b])\n",
      "[w2 * max(0, [w1 * x + b]) + b]\n",
      "w2 * max(0, [w1 * x + b])\n",
      "max(0, [w1 * x + b])\n",
      "w2\n",
      "[w1 * x + b]\n",
      "b\n",
      "w1 * x\n",
      "x\n",
      "w1\n",
      "After:\n",
      "Parameter max(0, [w2 * max(0, [w1 * x + b]) + b]) = 0; dL/d[max(0, [w2 * max(0, [w1 * x + b]) + b])] = 0.0\n",
      "Parameter w1 = -35.0; dL/d[w1] = 6.0\n",
      "Parameter w2 = -21.999999999999993; dL/d[w2] = 4.0\n",
      "Parameter b = -22.699999999999992; dL/d[b] = 4.0\n"
     ]
    }
   ],
   "source": [
    "x = Parameter(3.0, 'x')\n",
    "b = Parameter(1.0, 'b')\n",
    "\n",
    "w1 = Parameter(1.0, 'w1')\n",
    "w2 = Parameter(2.0, 'w2')\n",
    "parameters = [w1, w2, b]\n",
    "L = (w2*(w1*x+b).ReLU()+b).ReLU()\n",
    "print(\"Before:\")\n",
    "print(L)\n",
    "print_testpr(parameters)\n",
    "for i in range(N):\n",
    "    L.backward()\n",
    "    sgd(parameters)\n",
    "    L = (w2*(w1*x+b).ReLU()+b).ReLU()\n",
    "print(\"After:\")\n",
    "print(L)\n",
    "print_testpr(parameters)"
   ]
  }
 ],
 "metadata": {
  "kernelspec": {
   "display_name": "Python 3 (ipykernel)",
   "language": "python",
   "name": "python3"
  },
  "language_info": {
   "codemirror_mode": {
    "name": "ipython",
    "version": 3
   },
   "file_extension": ".py",
   "mimetype": "text/x-python",
   "name": "python",
   "nbconvert_exporter": "python",
   "pygments_lexer": "ipython3",
   "version": "3.11.5"
  }
 },
 "nbformat": 4,
 "nbformat_minor": 5
}
